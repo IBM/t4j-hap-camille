{
 "cells": [
  {
   "cell_type": "markdown",
   "id": "c2f1b020",
   "metadata": {},
   "source": [
    "\n",
    "# Install Libraries"
   ]
  },
  {
   "cell_type": "code",
   "execution_count": null,
   "id": "f60b2955",
   "metadata": {},
   "outputs": [],
   "source": [
    "!pip3 install numpy"
   ]
  },
  {
   "cell_type": "code",
   "execution_count": 80,
   "id": "852b70c6",
   "metadata": {},
   "outputs": [
    {
     "name": "stdout",
     "output_type": "stream",
     "text": [
      "Collecting scikit-learn\n",
      "  Downloading scikit_learn-1.2.2-cp38-cp38-manylinux_2_17_x86_64.manylinux2014_x86_64.whl (9.8 MB)\n",
      "\u001b[2K     \u001b[90m━━━━━━━━━━━━━━━━━━━━━━━━━━━━━━━━━━━━━━━━\u001b[0m \u001b[32m9.8/9.8 MB\u001b[0m \u001b[31m41.3 MB/s\u001b[0m eta \u001b[36m0:00:00\u001b[0m00:01\u001b[0m00:01\u001b[0m\n",
      "\u001b[?25hCollecting scipy>=1.3.2\n",
      "  Downloading scipy-1.10.1-cp38-cp38-manylinux_2_17_x86_64.manylinux2014_x86_64.whl (34.5 MB)\n",
      "\u001b[2K     \u001b[90m━━━━━━━━━━━━━━━━━━━━━━━━━━━━━━━━━━━━━━━━\u001b[0m \u001b[32m34.5/34.5 MB\u001b[0m \u001b[31m47.2 MB/s\u001b[0m eta \u001b[36m0:00:00\u001b[0m00:01\u001b[0m00:01\u001b[0m\n",
      "\u001b[?25hCollecting threadpoolctl>=2.0.0\n",
      "  Downloading threadpoolctl-3.1.0-py3-none-any.whl (14 kB)\n",
      "Requirement already satisfied: joblib>=1.1.1 in ./.conda/envs/t4j/lib/python3.8/site-packages (from scikit-learn) (1.2.0)\n",
      "Requirement already satisfied: numpy>=1.17.3 in ./.conda/envs/t4j/lib/python3.8/site-packages (from scikit-learn) (1.24.3)\n",
      "Installing collected packages: threadpoolctl, scipy, scikit-learn\n",
      "Successfully installed scikit-learn-1.2.2 scipy-1.10.1 threadpoolctl-3.1.0\n"
     ]
    }
   ],
   "source": [
    "!python3 -m pip install -U scikit-learn\n"
   ]
  },
  {
   "cell_type": "code",
   "execution_count": 47,
   "id": "ee6d1142",
   "metadata": {},
   "outputs": [
    {
     "name": "stdout",
     "output_type": "stream",
     "text": [
      "Collecting nltk\n",
      "  Downloading nltk-3.8.1-py3-none-any.whl (1.5 MB)\n",
      "\u001b[2K     \u001b[90m━━━━━━━━━━━━━━━━━━━━━━━━━━━━━━━━━━━━━━━━\u001b[0m \u001b[32m1.5/1.5 MB\u001b[0m \u001b[31m15.9 MB/s\u001b[0m eta \u001b[36m0:00:00\u001b[0ma \u001b[36m0:00:01\u001b[0m\n",
      "\u001b[?25hCollecting tqdm\n",
      "  Downloading tqdm-4.65.0-py3-none-any.whl (77 kB)\n",
      "\u001b[2K     \u001b[90m━━━━━━━━━━━━━━━━━━━━━━━━━━━━━━━━━━━━━━━━\u001b[0m \u001b[32m77.1/77.1 kB\u001b[0m \u001b[31m12.0 MB/s\u001b[0m eta \u001b[36m0:00:00\u001b[0m\n",
      "\u001b[?25hCollecting regex>=2021.8.3\n",
      "  Downloading regex-2023.6.3-cp38-cp38-manylinux_2_17_x86_64.manylinux2014_x86_64.whl (772 kB)\n",
      "\u001b[2K     \u001b[90m━━━━━━━━━━━━━━━━━━━━━━━━━━━━━━━━━━━━━━\u001b[0m \u001b[32m772.3/772.3 kB\u001b[0m \u001b[31m46.1 MB/s\u001b[0m eta \u001b[36m0:00:00\u001b[0m\n",
      "\u001b[?25hCollecting joblib\n",
      "  Downloading joblib-1.2.0-py3-none-any.whl (297 kB)\n",
      "\u001b[2K     \u001b[90m━━━━━━━━━━━━━━━━━━━━━━━━━━━━━━━━━━━━━━\u001b[0m \u001b[32m298.0/298.0 kB\u001b[0m \u001b[31m34.1 MB/s\u001b[0m eta \u001b[36m0:00:00\u001b[0m\n",
      "\u001b[?25hCollecting click\n",
      "  Downloading click-8.1.3-py3-none-any.whl (96 kB)\n",
      "\u001b[2K     \u001b[90m━━━━━━━━━━━━━━━━━━━━━━━━━━━━━━━━━━━━━━━━\u001b[0m \u001b[32m96.6/96.6 kB\u001b[0m \u001b[31m13.4 MB/s\u001b[0m eta \u001b[36m0:00:00\u001b[0m\n",
      "\u001b[?25hInstalling collected packages: tqdm, regex, joblib, click, nltk\n",
      "Successfully installed click-8.1.3 joblib-1.2.0 nltk-3.8.1 regex-2023.6.3 tqdm-4.65.0\n"
     ]
    }
   ],
   "source": [
    "!pip3 install nltk"
   ]
  },
  {
   "cell_type": "code",
   "execution_count": 3,
   "id": "d6767c2f",
   "metadata": {},
   "outputs": [
    {
     "name": "stdout",
     "output_type": "stream",
     "text": [
      "Collecting pandas\n",
      "  Downloading pandas-2.0.2-cp38-cp38-manylinux_2_17_x86_64.manylinux2014_x86_64.whl (12.3 MB)\n",
      "\u001b[2K     \u001b[90m━━━━━━━━━━━━━━━━━━━━━━━━━━━━━━━━━━━━━━━━\u001b[0m \u001b[32m12.3/12.3 MB\u001b[0m \u001b[31m21.0 MB/s\u001b[0m eta \u001b[36m0:00:00\u001b[0m00:01\u001b[0m00:01\u001b[0m\n",
      "\u001b[?25hRequirement already satisfied: python-dateutil>=2.8.2 in ./.conda/envs/t4j/lib/python3.8/site-packages (from pandas) (2.8.2)\n",
      "Collecting tzdata>=2022.1\n",
      "  Downloading tzdata-2023.3-py2.py3-none-any.whl (341 kB)\n",
      "\u001b[2K     \u001b[90m━━━━━━━━━━━━━━━━━━━━━━━━━━━━━━━━━━━━━━\u001b[0m \u001b[32m341.8/341.8 kB\u001b[0m \u001b[31m21.5 MB/s\u001b[0m eta \u001b[36m0:00:00\u001b[0m\n",
      "\u001b[?25hRequirement already satisfied: pytz>=2020.1 in ./.conda/envs/t4j/lib/python3.8/site-packages (from pandas) (2022.7)\n",
      "Requirement already satisfied: numpy>=1.20.3 in ./.conda/envs/t4j/lib/python3.8/site-packages (from pandas) (1.24.3)\n",
      "Requirement already satisfied: six>=1.5 in ./.conda/envs/t4j/lib/python3.8/site-packages (from python-dateutil>=2.8.2->pandas) (1.16.0)\n",
      "Installing collected packages: tzdata, pandas\n",
      "Successfully installed pandas-2.0.2 tzdata-2023.3\n"
     ]
    }
   ],
   "source": [
    "!pip3 install pandas"
   ]
  },
  {
   "cell_type": "code",
   "execution_count": 73,
   "id": "0fa62326",
   "metadata": {},
   "outputs": [
    {
     "name": "stdout",
     "output_type": "stream",
     "text": [
      "Collecting matplotlib\n",
      "  Downloading matplotlib-3.7.1-cp38-cp38-manylinux_2_12_x86_64.manylinux2010_x86_64.whl (9.2 MB)\n",
      "\u001b[2K     \u001b[90m━━━━━━━━━━━━━━━━━━━━━━━━━━━━━━━━━━━━━━━━\u001b[0m \u001b[32m9.2/9.2 MB\u001b[0m \u001b[31m47.6 MB/s\u001b[0m eta \u001b[36m0:00:00\u001b[0m00:01\u001b[0m00:01\u001b[0m\n",
      "\u001b[?25hCollecting pyparsing>=2.3.1\n",
      "  Downloading pyparsing-3.0.9-py3-none-any.whl (98 kB)\n",
      "\u001b[2K     \u001b[90m━━━━━━━━━━━━━━━━━━━━━━━━━━━━━━━━━━━━━━━━\u001b[0m \u001b[32m98.3/98.3 kB\u001b[0m \u001b[31m13.7 MB/s\u001b[0m eta \u001b[36m0:00:00\u001b[0m\n",
      "\u001b[?25hRequirement already satisfied: packaging>=20.0 in ./.conda/envs/t4j/lib/python3.8/site-packages (from matplotlib) (23.0)\n",
      "Collecting cycler>=0.10\n",
      "  Downloading cycler-0.11.0-py3-none-any.whl (6.4 kB)\n",
      "Collecting contourpy>=1.0.1\n",
      "  Downloading contourpy-1.0.7-cp38-cp38-manylinux_2_17_x86_64.manylinux2014_x86_64.whl (300 kB)\n",
      "\u001b[2K     \u001b[90m━━━━━━━━━━━━━━━━━━━━━━━━━━━━━━━━━━━━━━\u001b[0m \u001b[32m300.0/300.0 kB\u001b[0m \u001b[31m31.6 MB/s\u001b[0m eta \u001b[36m0:00:00\u001b[0m\n",
      "\u001b[?25hCollecting kiwisolver>=1.0.1\n",
      "  Downloading kiwisolver-1.4.4-cp38-cp38-manylinux_2_5_x86_64.manylinux1_x86_64.whl (1.2 MB)\n",
      "\u001b[2K     \u001b[90m━━━━━━━━━━━━━━━━━━━━━━━━━━━━━━━━━━━━━━━━\u001b[0m \u001b[32m1.2/1.2 MB\u001b[0m \u001b[31m54.4 MB/s\u001b[0m eta \u001b[36m0:00:00\u001b[0m\n",
      "\u001b[?25hRequirement already satisfied: numpy>=1.20 in ./.conda/envs/t4j/lib/python3.8/site-packages (from matplotlib) (1.24.3)\n",
      "Requirement already satisfied: importlib-resources>=3.2.0 in ./.conda/envs/t4j/lib/python3.8/site-packages (from matplotlib) (5.2.0)\n",
      "Collecting fonttools>=4.22.0\n",
      "  Downloading fonttools-4.39.4-py3-none-any.whl (1.0 MB)\n",
      "\u001b[2K     \u001b[90m━━━━━━━━━━━━━━━━━━━━━━━━━━━━━━━━━━━━━━━━\u001b[0m \u001b[32m1.0/1.0 MB\u001b[0m \u001b[31m52.3 MB/s\u001b[0m eta \u001b[36m0:00:00\u001b[0m\n",
      "\u001b[?25hRequirement already satisfied: python-dateutil>=2.7 in ./.conda/envs/t4j/lib/python3.8/site-packages (from matplotlib) (2.8.2)\n",
      "Collecting pillow>=6.2.0\n",
      "  Downloading Pillow-9.5.0-cp38-cp38-manylinux_2_28_x86_64.whl (3.4 MB)\n",
      "\u001b[2K     \u001b[90m━━━━━━━━━━━━━━━━━━━━━━━━━━━━━━━━━━━━━━━━\u001b[0m \u001b[32m3.4/3.4 MB\u001b[0m \u001b[31m68.0 MB/s\u001b[0m eta \u001b[36m0:00:00\u001b[0m:00:01\u001b[0m\n",
      "\u001b[?25hRequirement already satisfied: zipp>=3.1.0 in ./.conda/envs/t4j/lib/python3.8/site-packages (from importlib-resources>=3.2.0->matplotlib) (3.11.0)\n",
      "Requirement already satisfied: six>=1.5 in ./.conda/envs/t4j/lib/python3.8/site-packages (from python-dateutil>=2.7->matplotlib) (1.16.0)\n",
      "Installing collected packages: pyparsing, pillow, kiwisolver, fonttools, cycler, contourpy, matplotlib\n",
      "Successfully installed contourpy-1.0.7 cycler-0.11.0 fonttools-4.39.4 kiwisolver-1.4.4 matplotlib-3.7.1 pillow-9.5.0 pyparsing-3.0.9\n"
     ]
    }
   ],
   "source": [
    "!pip3 install matplotlib"
   ]
  },
  {
   "cell_type": "code",
   "execution_count": 83,
   "id": "8be32225",
   "metadata": {},
   "outputs": [
    {
     "name": "stdout",
     "output_type": "stream",
     "text": [
      "Collecting seaborn\n",
      "  Downloading seaborn-0.12.2-py3-none-any.whl (293 kB)\n",
      "\u001b[2K     \u001b[90m━━━━━━━━━━━━━━━━━━━━━━━━━━━━━━━━━━━━━━━\u001b[0m \u001b[32m293.3/293.3 kB\u001b[0m \u001b[31m5.4 MB/s\u001b[0m eta \u001b[36m0:00:00\u001b[0ma \u001b[36m0:00:01\u001b[0m\n",
      "\u001b[?25hRequirement already satisfied: pandas>=0.25 in ./.conda/envs/t4j/lib/python3.8/site-packages (from seaborn) (2.0.2)\n",
      "Requirement already satisfied: numpy!=1.24.0,>=1.17 in ./.conda/envs/t4j/lib/python3.8/site-packages (from seaborn) (1.24.3)\n",
      "Requirement already satisfied: matplotlib!=3.6.1,>=3.1 in ./.conda/envs/t4j/lib/python3.8/site-packages (from seaborn) (3.7.1)\n",
      "Requirement already satisfied: fonttools>=4.22.0 in ./.conda/envs/t4j/lib/python3.8/site-packages (from matplotlib!=3.6.1,>=3.1->seaborn) (4.39.4)\n",
      "Requirement already satisfied: pyparsing>=2.3.1 in ./.conda/envs/t4j/lib/python3.8/site-packages (from matplotlib!=3.6.1,>=3.1->seaborn) (3.0.9)\n",
      "Requirement already satisfied: packaging>=20.0 in ./.conda/envs/t4j/lib/python3.8/site-packages (from matplotlib!=3.6.1,>=3.1->seaborn) (23.0)\n",
      "Requirement already satisfied: importlib-resources>=3.2.0 in ./.conda/envs/t4j/lib/python3.8/site-packages (from matplotlib!=3.6.1,>=3.1->seaborn) (5.2.0)\n",
      "Requirement already satisfied: kiwisolver>=1.0.1 in ./.conda/envs/t4j/lib/python3.8/site-packages (from matplotlib!=3.6.1,>=3.1->seaborn) (1.4.4)\n",
      "Requirement already satisfied: pillow>=6.2.0 in ./.conda/envs/t4j/lib/python3.8/site-packages (from matplotlib!=3.6.1,>=3.1->seaborn) (9.5.0)\n",
      "Requirement already satisfied: contourpy>=1.0.1 in ./.conda/envs/t4j/lib/python3.8/site-packages (from matplotlib!=3.6.1,>=3.1->seaborn) (1.0.7)\n",
      "Requirement already satisfied: cycler>=0.10 in ./.conda/envs/t4j/lib/python3.8/site-packages (from matplotlib!=3.6.1,>=3.1->seaborn) (0.11.0)\n",
      "Requirement already satisfied: python-dateutil>=2.7 in ./.conda/envs/t4j/lib/python3.8/site-packages (from matplotlib!=3.6.1,>=3.1->seaborn) (2.8.2)\n",
      "Requirement already satisfied: pytz>=2020.1 in ./.conda/envs/t4j/lib/python3.8/site-packages (from pandas>=0.25->seaborn) (2022.7)\n",
      "Requirement already satisfied: tzdata>=2022.1 in ./.conda/envs/t4j/lib/python3.8/site-packages (from pandas>=0.25->seaborn) (2023.3)\n",
      "Requirement already satisfied: zipp>=3.1.0 in ./.conda/envs/t4j/lib/python3.8/site-packages (from importlib-resources>=3.2.0->matplotlib!=3.6.1,>=3.1->seaborn) (3.11.0)\n",
      "Requirement already satisfied: six>=1.5 in ./.conda/envs/t4j/lib/python3.8/site-packages (from python-dateutil>=2.7->matplotlib!=3.6.1,>=3.1->seaborn) (1.16.0)\n",
      "Installing collected packages: seaborn\n",
      "Successfully installed seaborn-0.12.2\n"
     ]
    }
   ],
   "source": [
    "!pip3 install seaborn"
   ]
  },
  {
   "cell_type": "markdown",
   "id": "ba6e6103",
   "metadata": {},
   "source": [
    "# Import libraries"
   ]
  },
  {
   "cell_type": "code",
   "execution_count": 1,
   "id": "3f57061d",
   "metadata": {},
   "outputs": [],
   "source": [
    "import pandas as pd\n",
    "import sklearn \n",
    "import numpy as np\n",
    "import matplotlib.pyplot as plt\n",
    "import seaborn as sns\n",
    "import re\n",
    "from collections import Counter\n",
    "from nltk.corpus import stopwords\n",
    "\n",
    "\n",
    "from sklearn.feature_extraction.text import CountVectorizer"
   ]
  },
  {
   "cell_type": "code",
   "execution_count": 2,
   "id": "99cea5bd",
   "metadata": {},
   "outputs": [
    {
     "name": "stderr",
     "output_type": "stream",
     "text": [
      "[nltk_data] Downloading package stopwords to /u/camilleh/nltk_data...\n",
      "[nltk_data]   Package stopwords is already up-to-date!\n"
     ]
    },
    {
     "data": {
      "text/plain": [
       "True"
      ]
     },
     "execution_count": 2,
     "metadata": {},
     "output_type": "execute_result"
    }
   ],
   "source": [
    "import nltk\n",
    "nltk.download('stopwords')"
   ]
  },
  {
   "cell_type": "markdown",
   "id": "ce3280b9",
   "metadata": {},
   "source": [
    "\n",
    "# Watson Toxic 200 En Dataset"
   ]
  },
  {
   "cell_type": "code",
   "execution_count": 72,
   "id": "63da0d4f",
   "metadata": {},
   "outputs": [],
   "source": [
    "toxic_200_test = pd.read_json('raw_data/commercial-use-allowed/en/toxic200_en/test.json')\n",
    "toxic_200_train = pd.read_json('raw_data/commercial-use-allowed/en/toxic200_en/train.json')\n",
    "toxic_200_val = pd.read_json('raw_data/commercial-use-allowed/en/toxic200_en/val.json')\n"
   ]
  },
  {
   "cell_type": "code",
   "execution_count": 73,
   "id": "e3d76eba",
   "metadata": {},
   "outputs": [],
   "source": [
    "t200_train = pd.json_normalize(toxic_200_train['data'])"
   ]
  },
  {
   "cell_type": "code",
   "execution_count": 74,
   "id": "df2a8d3a",
   "metadata": {},
   "outputs": [],
   "source": [
    "t200_train['version'] = toxic_200_train['version']"
   ]
  },
  {
   "cell_type": "code",
   "execution_count": 75,
   "id": "837bff29",
   "metadata": {},
   "outputs": [
    {
     "data": {
      "text/html": [
       "<div>\n",
       "<style scoped>\n",
       "    .dataframe tbody tr th:only-of-type {\n",
       "        vertical-align: middle;\n",
       "    }\n",
       "\n",
       "    .dataframe tbody tr th {\n",
       "        vertical-align: top;\n",
       "    }\n",
       "\n",
       "    .dataframe thead th {\n",
       "        text-align: right;\n",
       "    }\n",
       "</style>\n",
       "<table border=\"1\" class=\"dataframe\">\n",
       "  <thead>\n",
       "    <tr style=\"text-align: right;\">\n",
       "      <th></th>\n",
       "      <th>text</th>\n",
       "      <th>label</th>\n",
       "      <th>version</th>\n",
       "    </tr>\n",
       "  </thead>\n",
       "  <tbody>\n",
       "    <tr>\n",
       "      <th>0</th>\n",
       "      <td>‘I’m responsible for what happens to you!’ she...</td>\n",
       "      <td>1</td>\n",
       "      <td>en</td>\n",
       "    </tr>\n",
       "    <tr>\n",
       "      <th>1</th>\n",
       "      <td>case you have doubts regarding a specific vend...</td>\n",
       "      <td>0</td>\n",
       "      <td>en</td>\n",
       "    </tr>\n",
       "    <tr>\n",
       "      <th>2</th>\n",
       "      <td>I look at the second guy. He gives me this bla...</td>\n",
       "      <td>0</td>\n",
       "      <td>en</td>\n",
       "    </tr>\n",
       "    <tr>\n",
       "      <th>3</th>\n",
       "      <td>Did you know that the Women's Success Summit w...</td>\n",
       "      <td>0</td>\n",
       "      <td>en</td>\n",
       "    </tr>\n",
       "    <tr>\n",
       "      <th>4</th>\n",
       "      <td>Are you looking for a tissue? Good, that shoul...</td>\n",
       "      <td>1</td>\n",
       "      <td>en</td>\n",
       "    </tr>\n",
       "    <tr>\n",
       "      <th>...</th>\n",
       "      <td>...</td>\n",
       "      <td>...</td>\n",
       "      <td>...</td>\n",
       "    </tr>\n",
       "    <tr>\n",
       "      <th>7995</th>\n",
       "      <td>Ok so I’ve just discovered making smoothies wi...</td>\n",
       "      <td>1</td>\n",
       "      <td>en</td>\n",
       "    </tr>\n",
       "    <tr>\n",
       "      <th>7996</th>\n",
       "      <td>Before the accession of Cyprus to EU the Cypru...</td>\n",
       "      <td>1</td>\n",
       "      <td>en</td>\n",
       "    </tr>\n",
       "    <tr>\n",
       "      <th>7997</th>\n",
       "      <td>While doing these reps you want to keep that g...</td>\n",
       "      <td>1</td>\n",
       "      <td>en</td>\n",
       "    </tr>\n",
       "    <tr>\n",
       "      <th>7998</th>\n",
       "      <td>While the variations above will help you get s...</td>\n",
       "      <td>0</td>\n",
       "      <td>en</td>\n",
       "    </tr>\n",
       "    <tr>\n",
       "      <th>7999</th>\n",
       "      <td>I'm the milf-next-door you always dreamed abou...</td>\n",
       "      <td>1</td>\n",
       "      <td>en</td>\n",
       "    </tr>\n",
       "  </tbody>\n",
       "</table>\n",
       "<p>8000 rows × 3 columns</p>\n",
       "</div>"
      ],
      "text/plain": [
       "                                                   text  label version\n",
       "0     ‘I’m responsible for what happens to you!’ she...      1      en\n",
       "1     case you have doubts regarding a specific vend...      0      en\n",
       "2     I look at the second guy. He gives me this bla...      0      en\n",
       "3     Did you know that the Women's Success Summit w...      0      en\n",
       "4     Are you looking for a tissue? Good, that shoul...      1      en\n",
       "...                                                 ...    ...     ...\n",
       "7995  Ok so I’ve just discovered making smoothies wi...      1      en\n",
       "7996  Before the accession of Cyprus to EU the Cypru...      1      en\n",
       "7997  While doing these reps you want to keep that g...      1      en\n",
       "7998  While the variations above will help you get s...      0      en\n",
       "7999  I'm the milf-next-door you always dreamed abou...      1      en\n",
       "\n",
       "[8000 rows x 3 columns]"
      ]
     },
     "execution_count": 75,
     "metadata": {},
     "output_type": "execute_result"
    }
   ],
   "source": [
    "t200_train"
   ]
  },
  {
   "cell_type": "code",
   "execution_count": 76,
   "id": "d5e8a0bb",
   "metadata": {},
   "outputs": [],
   "source": [
    "t200_train['word_count'] = t200_train['text'].apply(lambda x: len(str(x).split()))"
   ]
  },
  {
   "cell_type": "code",
   "execution_count": 77,
   "id": "4486c097",
   "metadata": {},
   "outputs": [
    {
     "data": {
      "text/plain": [
       "version\n",
       "en    8000\n",
       "Name: count, dtype: int64"
      ]
     },
     "execution_count": 77,
     "metadata": {},
     "output_type": "execute_result"
    }
   ],
   "source": [
    "t200_train['version'].value_counts()"
   ]
  },
  {
   "cell_type": "code",
   "execution_count": 81,
   "id": "0c8035ab",
   "metadata": {},
   "outputs": [
    {
     "data": {
      "text/plain": [
       "0    13\n",
       "Name: word_count, dtype: int64"
      ]
     },
     "execution_count": 81,
     "metadata": {},
     "output_type": "execute_result"
    }
   ],
   "source": [
    "t200_train['word_count'].mode()"
   ]
  },
  {
   "cell_type": "code",
   "execution_count": 82,
   "id": "e7d10ec4",
   "metadata": {},
   "outputs": [
    {
     "data": {
      "text/html": [
       "<div>\n",
       "<style scoped>\n",
       "    .dataframe tbody tr th:only-of-type {\n",
       "        vertical-align: middle;\n",
       "    }\n",
       "\n",
       "    .dataframe tbody tr th {\n",
       "        vertical-align: top;\n",
       "    }\n",
       "\n",
       "    .dataframe thead th {\n",
       "        text-align: right;\n",
       "    }\n",
       "</style>\n",
       "<table border=\"1\" class=\"dataframe\">\n",
       "  <thead>\n",
       "    <tr style=\"text-align: right;\">\n",
       "      <th></th>\n",
       "      <th>text</th>\n",
       "      <th>label</th>\n",
       "      <th>version</th>\n",
       "      <th>word_count</th>\n",
       "    </tr>\n",
       "  </thead>\n",
       "  <tbody>\n",
       "    <tr>\n",
       "      <th>0</th>\n",
       "      <td>‘I’m responsible for what happens to you!’ she...</td>\n",
       "      <td>1</td>\n",
       "      <td>en</td>\n",
       "      <td>21</td>\n",
       "    </tr>\n",
       "    <tr>\n",
       "      <th>1</th>\n",
       "      <td>case you have doubts regarding a specific vend...</td>\n",
       "      <td>0</td>\n",
       "      <td>en</td>\n",
       "      <td>20</td>\n",
       "    </tr>\n",
       "    <tr>\n",
       "      <th>2</th>\n",
       "      <td>I look at the second guy. He gives me this bla...</td>\n",
       "      <td>0</td>\n",
       "      <td>en</td>\n",
       "      <td>12</td>\n",
       "    </tr>\n",
       "    <tr>\n",
       "      <th>3</th>\n",
       "      <td>Did you know that the Women's Success Summit w...</td>\n",
       "      <td>0</td>\n",
       "      <td>en</td>\n",
       "      <td>27</td>\n",
       "    </tr>\n",
       "    <tr>\n",
       "      <th>4</th>\n",
       "      <td>Are you looking for a tissue? Good, that shoul...</td>\n",
       "      <td>1</td>\n",
       "      <td>en</td>\n",
       "      <td>20</td>\n",
       "    </tr>\n",
       "    <tr>\n",
       "      <th>...</th>\n",
       "      <td>...</td>\n",
       "      <td>...</td>\n",
       "      <td>...</td>\n",
       "      <td>...</td>\n",
       "    </tr>\n",
       "    <tr>\n",
       "      <th>7995</th>\n",
       "      <td>Ok so I’ve just discovered making smoothies wi...</td>\n",
       "      <td>1</td>\n",
       "      <td>en</td>\n",
       "      <td>19</td>\n",
       "    </tr>\n",
       "    <tr>\n",
       "      <th>7996</th>\n",
       "      <td>Before the accession of Cyprus to EU the Cypru...</td>\n",
       "      <td>1</td>\n",
       "      <td>en</td>\n",
       "      <td>19</td>\n",
       "    </tr>\n",
       "    <tr>\n",
       "      <th>7997</th>\n",
       "      <td>While doing these reps you want to keep that g...</td>\n",
       "      <td>1</td>\n",
       "      <td>en</td>\n",
       "      <td>26</td>\n",
       "    </tr>\n",
       "    <tr>\n",
       "      <th>7998</th>\n",
       "      <td>While the variations above will help you get s...</td>\n",
       "      <td>0</td>\n",
       "      <td>en</td>\n",
       "      <td>26</td>\n",
       "    </tr>\n",
       "    <tr>\n",
       "      <th>7999</th>\n",
       "      <td>I'm the milf-next-door you always dreamed abou...</td>\n",
       "      <td>1</td>\n",
       "      <td>en</td>\n",
       "      <td>8</td>\n",
       "    </tr>\n",
       "  </tbody>\n",
       "</table>\n",
       "<p>7822 rows × 4 columns</p>\n",
       "</div>"
      ],
      "text/plain": [
       "                                                   text  label version  \\\n",
       "0     ‘I’m responsible for what happens to you!’ she...      1      en   \n",
       "1     case you have doubts regarding a specific vend...      0      en   \n",
       "2     I look at the second guy. He gives me this bla...      0      en   \n",
       "3     Did you know that the Women's Success Summit w...      0      en   \n",
       "4     Are you looking for a tissue? Good, that shoul...      1      en   \n",
       "...                                                 ...    ...     ...   \n",
       "7995  Ok so I’ve just discovered making smoothies wi...      1      en   \n",
       "7996  Before the accession of Cyprus to EU the Cypru...      1      en   \n",
       "7997  While doing these reps you want to keep that g...      1      en   \n",
       "7998  While the variations above will help you get s...      0      en   \n",
       "7999  I'm the milf-next-door you always dreamed abou...      1      en   \n",
       "\n",
       "      word_count  \n",
       "0             21  \n",
       "1             20  \n",
       "2             12  \n",
       "3             27  \n",
       "4             20  \n",
       "...          ...  \n",
       "7995          19  \n",
       "7996          19  \n",
       "7997          26  \n",
       "7998          26  \n",
       "7999           8  \n",
       "\n",
       "[7822 rows x 4 columns]"
      ]
     },
     "execution_count": 82,
     "metadata": {},
     "output_type": "execute_result"
    }
   ],
   "source": [
    "t200_train.drop_duplicates()"
   ]
  },
  {
   "cell_type": "code",
   "execution_count": 84,
   "id": "6fff5766",
   "metadata": {},
   "outputs": [
    {
     "data": {
      "text/plain": [
       "0.02225"
      ]
     },
     "execution_count": 84,
     "metadata": {},
     "output_type": "execute_result"
    }
   ],
   "source": [
    "178/8000"
   ]
  },
  {
   "cell_type": "code",
   "execution_count": 85,
   "id": "1adc633e",
   "metadata": {},
   "outputs": [
    {
     "data": {
      "text/plain": [
       "text\n",
       "!! Beware of Tokens of eternity aka Keepsake Co. Now!!I think I've had enough of being treated like a fool when given...                             1\n",
       "\" A really good and surprising look at what our navy can do. I really enjoyed this book, even if it came off a little like propaganda at times. \"    1\n",
       "\" I am no fan of Churchill, and could right endless stories of what a bastard he was \"                                                               1\n",
       "\"'Cause you guys, NYPD, you're blameless, right? I mean, you guys never get shit wrong. You ever serve, Sergeant?\"                                   1\n",
       "\"...In the old day' things were so different, bosses watched our asses, the elders of the CPD had your back with sound advise.\"                      1\n",
       "                                                                                                                                                    ..\n",
       "← Week in Review: 16 February- 22 February 2015                                                                                                      1\n",
       "■ Use to support respiratory, cardiovascular and nervous systems.                                                                                    1\n",
       "♦ Review your life with the help of some questions, which are based on the 10 Commandments (see below).                                              1\n",
       "⛵️<unk> Rentals available 2 miles away.                                                                                                              1\n",
       "「You can’t trust the swordsmanship of the foolish prince? Then, should we begin to renew your recognition?」                                          1\n",
       "Length: 7822, dtype: int64"
      ]
     },
     "execution_count": 85,
     "metadata": {},
     "output_type": "execute_result"
    }
   ],
   "source": [
    "t200_train.pivot_table(index=['text'], aggfunc='size')\n"
   ]
  },
  {
   "cell_type": "code",
   "execution_count": 13,
   "id": "b61f4b99",
   "metadata": {
    "scrolled": true
   },
   "outputs": [
    {
     "ename": "NameError",
     "evalue": "name 't200_train' is not defined",
     "output_type": "error",
     "traceback": [
      "\u001b[0;31m---------------------------------------------------------------------------\u001b[0m",
      "\u001b[0;31mNameError\u001b[0m                                 Traceback (most recent call last)",
      "Cell \u001b[0;32mIn[13], line 3\u001b[0m\n\u001b[1;32m      1\u001b[0m \u001b[38;5;66;03m# words0 = t200_train[t200_train['label']==0]['text']\u001b[39;00m\n\u001b[1;32m      2\u001b[0m \u001b[38;5;28;01mfrom\u001b[39;00m \u001b[38;5;21;01mcollections\u001b[39;00m \u001b[38;5;28;01mimport\u001b[39;00m Counter\n\u001b[0;32m----> 3\u001b[0m non_toxic_mc \u001b[38;5;241m=\u001b[39m Counter(\u001b[38;5;124m\"\u001b[39m\u001b[38;5;124m \u001b[39m\u001b[38;5;124m\"\u001b[39m\u001b[38;5;241m.\u001b[39mjoin(\u001b[43mt200_train\u001b[49m[t200_train[\u001b[38;5;124m'\u001b[39m\u001b[38;5;124mlabel\u001b[39m\u001b[38;5;124m'\u001b[39m]\u001b[38;5;241m==\u001b[39m\u001b[38;5;241m0\u001b[39m][\u001b[38;5;124m\"\u001b[39m\u001b[38;5;124mtext\u001b[39m\u001b[38;5;124m\"\u001b[39m])\u001b[38;5;241m.\u001b[39msplit())\u001b[38;5;241m.\u001b[39mmost_common(\u001b[38;5;241m25\u001b[39m)\n",
      "\u001b[0;31mNameError\u001b[0m: name 't200_train' is not defined"
     ]
    }
   ],
   "source": [
    "# words0 = t200_train[t200_train['label']==0]['text']\n",
    "# from collections import Counter\n",
    "non_toxic_mc = Counter(\" \".join(t200_train[t200_train['label']==0][\"text\"]).split()).most_common(25)"
   ]
  },
  {
   "cell_type": "code",
   "execution_count": 98,
   "id": "c5cabd7f",
   "metadata": {},
   "outputs": [
    {
     "data": {
      "text/plain": [
       "1       case you have doubts regarding a specific vend...\n",
       "2       I look at the second guy. He gives me this bla...\n",
       "3       Did you know that the Women's Success Summit w...\n",
       "7       We have been granted a patent for a method of ...\n",
       "9                      9) A keystone species is one that:\n",
       "                              ...                        \n",
       "7987    1) In battle, will you be able to have greater...\n",
       "7990    [0068] The remote control can comprise one but...\n",
       "7992    While Matthew, Mark and Luke all say the Last ...\n",
       "7993    You can choose your delivery date on the Cart ...\n",
       "7998    While the variations above will help you get s...\n",
       "Name: text, Length: 4006, dtype: object"
      ]
     },
     "execution_count": 98,
     "metadata": {},
     "output_type": "execute_result"
    }
   ],
   "source": [
    "words0"
   ]
  },
  {
   "cell_type": "code",
   "execution_count": 3,
   "id": "aae6f5b8",
   "metadata": {},
   "outputs": [],
   "source": [
    "from nltk.corpus import stopwords"
   ]
  },
  {
   "cell_type": "code",
   "execution_count": 4,
   "id": "c634fdec",
   "metadata": {},
   "outputs": [],
   "source": [
    "def clean(review):\n",
    "    \n",
    "    review = review.lower()\n",
    "    review = re.sub('[^a-z A-Z 0-9-]+', '', review)\n",
    "    review = \" \".join([word for word in review.split() if word not in stopwords.words('english')])\n",
    "    \n",
    "    \n",
    "    return review\n"
   ]
  },
  {
   "cell_type": "code",
   "execution_count": 136,
   "id": "6e2b560a",
   "metadata": {},
   "outputs": [],
   "source": [
    "t200_train['text_clean'] = t200_train['text'].apply(clean)"
   ]
  },
  {
   "cell_type": "code",
   "execution_count": 137,
   "id": "35fb45cd",
   "metadata": {},
   "outputs": [
    {
     "data": {
      "text/html": [
       "<div>\n",
       "<style scoped>\n",
       "    .dataframe tbody tr th:only-of-type {\n",
       "        vertical-align: middle;\n",
       "    }\n",
       "\n",
       "    .dataframe tbody tr th {\n",
       "        vertical-align: top;\n",
       "    }\n",
       "\n",
       "    .dataframe thead th {\n",
       "        text-align: right;\n",
       "    }\n",
       "</style>\n",
       "<table border=\"1\" class=\"dataframe\">\n",
       "  <thead>\n",
       "    <tr style=\"text-align: right;\">\n",
       "      <th></th>\n",
       "      <th>text</th>\n",
       "      <th>label</th>\n",
       "      <th>version</th>\n",
       "      <th>word_count</th>\n",
       "      <th>text_clean</th>\n",
       "    </tr>\n",
       "  </thead>\n",
       "  <tbody>\n",
       "    <tr>\n",
       "      <th>0</th>\n",
       "      <td>‘I’m responsible for what happens to you!’ she...</td>\n",
       "      <td>1</td>\n",
       "      <td>en</td>\n",
       "      <td>21</td>\n",
       "      <td>im responsible happens yelled christ im workin...</td>\n",
       "    </tr>\n",
       "    <tr>\n",
       "      <th>1</th>\n",
       "      <td>case you have doubts regarding a specific vend...</td>\n",
       "      <td>0</td>\n",
       "      <td>en</td>\n",
       "      <td>20</td>\n",
       "      <td>case doubts regarding specific vendor telephon...</td>\n",
       "    </tr>\n",
       "    <tr>\n",
       "      <th>2</th>\n",
       "      <td>I look at the second guy. He gives me this bla...</td>\n",
       "      <td>0</td>\n",
       "      <td>en</td>\n",
       "      <td>12</td>\n",
       "      <td>look second guy gives blank stare</td>\n",
       "    </tr>\n",
       "    <tr>\n",
       "      <th>3</th>\n",
       "      <td>Did you know that the Women's Success Summit w...</td>\n",
       "      <td>0</td>\n",
       "      <td>en</td>\n",
       "      <td>27</td>\n",
       "      <td>know womens success summit also listed one top...</td>\n",
       "    </tr>\n",
       "    <tr>\n",
       "      <th>4</th>\n",
       "      <td>Are you looking for a tissue? Good, that shoul...</td>\n",
       "      <td>1</td>\n",
       "      <td>en</td>\n",
       "      <td>20</td>\n",
       "      <td>looking tissue good hold resume bitching</td>\n",
       "    </tr>\n",
       "    <tr>\n",
       "      <th>...</th>\n",
       "      <td>...</td>\n",
       "      <td>...</td>\n",
       "      <td>...</td>\n",
       "      <td>...</td>\n",
       "      <td>...</td>\n",
       "    </tr>\n",
       "    <tr>\n",
       "      <th>7995</th>\n",
       "      <td>Ok so I’ve just discovered making smoothies wi...</td>\n",
       "      <td>1</td>\n",
       "      <td>en</td>\n",
       "      <td>19</td>\n",
       "      <td>ok ive discovered making smoothies ice rather ...</td>\n",
       "    </tr>\n",
       "    <tr>\n",
       "      <th>7996</th>\n",
       "      <td>Before the accession of Cyprus to EU the Cypru...</td>\n",
       "      <td>1</td>\n",
       "      <td>en</td>\n",
       "      <td>19</td>\n",
       "      <td>accession cyprus eu cyprus courts jurisdiction...</td>\n",
       "    </tr>\n",
       "    <tr>\n",
       "      <th>7997</th>\n",
       "      <td>While doing these reps you want to keep that g...</td>\n",
       "      <td>1</td>\n",
       "      <td>en</td>\n",
       "      <td>26</td>\n",
       "      <td>reps want keep glute muscle isolated put hand ...</td>\n",
       "    </tr>\n",
       "    <tr>\n",
       "      <th>7998</th>\n",
       "      <td>While the variations above will help you get s...</td>\n",
       "      <td>0</td>\n",
       "      <td>en</td>\n",
       "      <td>26</td>\n",
       "      <td>variations help get started climbing locomotio...</td>\n",
       "    </tr>\n",
       "    <tr>\n",
       "      <th>7999</th>\n",
       "      <td>I'm the milf-next-door you always dreamed abou...</td>\n",
       "      <td>1</td>\n",
       "      <td>en</td>\n",
       "      <td>8</td>\n",
       "      <td>im milf-next-door always dreamed</td>\n",
       "    </tr>\n",
       "  </tbody>\n",
       "</table>\n",
       "<p>8000 rows × 5 columns</p>\n",
       "</div>"
      ],
      "text/plain": [
       "                                                   text  label version  \\\n",
       "0     ‘I’m responsible for what happens to you!’ she...      1      en   \n",
       "1     case you have doubts regarding a specific vend...      0      en   \n",
       "2     I look at the second guy. He gives me this bla...      0      en   \n",
       "3     Did you know that the Women's Success Summit w...      0      en   \n",
       "4     Are you looking for a tissue? Good, that shoul...      1      en   \n",
       "...                                                 ...    ...     ...   \n",
       "7995  Ok so I’ve just discovered making smoothies wi...      1      en   \n",
       "7996  Before the accession of Cyprus to EU the Cypru...      1      en   \n",
       "7997  While doing these reps you want to keep that g...      1      en   \n",
       "7998  While the variations above will help you get s...      0      en   \n",
       "7999  I'm the milf-next-door you always dreamed abou...      1      en   \n",
       "\n",
       "      word_count                                         text_clean  \n",
       "0             21  im responsible happens yelled christ im workin...  \n",
       "1             20  case doubts regarding specific vendor telephon...  \n",
       "2             12                  look second guy gives blank stare  \n",
       "3             27  know womens success summit also listed one top...  \n",
       "4             20           looking tissue good hold resume bitching  \n",
       "...          ...                                                ...  \n",
       "7995          19  ok ive discovered making smoothies ice rather ...  \n",
       "7996          19  accession cyprus eu cyprus courts jurisdiction...  \n",
       "7997          26  reps want keep glute muscle isolated put hand ...  \n",
       "7998          26  variations help get started climbing locomotio...  \n",
       "7999           8                   im milf-next-door always dreamed  \n",
       "\n",
       "[8000 rows x 5 columns]"
      ]
     },
     "execution_count": 137,
     "metadata": {},
     "output_type": "execute_result"
    }
   ],
   "source": [
    "t200_train"
   ]
  },
  {
   "cell_type": "code",
   "execution_count": 139,
   "id": "2a5f10e8",
   "metadata": {},
   "outputs": [],
   "source": [
    "my_counter =Counter(\" \".join(t200_train[t200_train['label']==0][\"text_clean\"]).lower().split())"
   ]
  },
  {
   "cell_type": "code",
   "execution_count": 140,
   "id": "ba3fe26a",
   "metadata": {},
   "outputs": [
    {
     "data": {
      "text/plain": [
       "[('one', 208),\n",
       " ('get', 158),\n",
       " ('time', 146),\n",
       " ('like', 140),\n",
       " ('know', 125),\n",
       " ('us', 123),\n",
       " ('see', 110),\n",
       " ('new', 108),\n",
       " ('would', 107),\n",
       " ('-', 105),\n",
       " ('people', 101),\n",
       " ('make', 101),\n",
       " ('well', 97),\n",
       " ('said', 97),\n",
       " ('work', 95),\n",
       " ('dont', 95),\n",
       " ('also', 92),\n",
       " ('good', 92),\n",
       " ('want', 89),\n",
       " ('great', 87),\n",
       " ('may', 85),\n",
       " ('first', 85),\n",
       " ('need', 82),\n",
       " ('love', 82),\n",
       " ('take', 82)]"
      ]
     },
     "execution_count": 140,
     "metadata": {},
     "output_type": "execute_result"
    }
   ],
   "source": [
    "my_counter.most_common(25)"
   ]
  },
  {
   "cell_type": "code",
   "execution_count": 141,
   "id": "f76444e6",
   "metadata": {},
   "outputs": [],
   "source": [
    "mycounter_1=Counter(\" \".join(t200_train[t200_train['label']==1][\"text_clean\"]).lower().split())"
   ]
  },
  {
   "cell_type": "code",
   "execution_count": 142,
   "id": "e4badf73",
   "metadata": {},
   "outputs": [],
   "source": [
    "my_counter_overall =Counter(\" \".join(t200_train[\"text_clean\"]).lower().split())"
   ]
  },
  {
   "cell_type": "code",
   "execution_count": 64,
   "id": "77a60e4d",
   "metadata": {},
   "outputs": [],
   "source": [
    "for sword in stop_words:\n",
    "    del mycounter_1[sword]"
   ]
  },
  {
   "cell_type": "code",
   "execution_count": 67,
   "id": "8bfccac9",
   "metadata": {},
   "outputs": [
    {
     "data": {
      "text/plain": [
       "[('like', 363),\n",
       " ('fuck', 283),\n",
       " ('get', 259),\n",
       " ('fucking', 240),\n",
       " ('shit', 237),\n",
       " ('stupid', 202),\n",
       " ('one', 193),\n",
       " ('would', 184),\n",
       " ('ass', 160),\n",
       " ('people', 158),\n",
       " ('know', 150),\n",
       " ('think', 133),\n",
       " (\"i'm\", 131),\n",
       " ('want', 128),\n",
       " ('make', 128),\n",
       " ('going', 119),\n",
       " ('love', 116),\n",
       " ('good', 115),\n",
       " ('really', 115),\n",
       " ('it.', 113),\n",
       " ('time', 107),\n",
       " ('could', 101),\n",
       " ('don’t', 98),\n",
       " ('see', 96),\n",
       " ('way', 95)]"
      ]
     },
     "execution_count": 67,
     "metadata": {},
     "output_type": "execute_result"
    }
   ],
   "source": [
    "mycounter_1.most_common(25)"
   ]
  },
  {
   "cell_type": "code",
   "execution_count": 70,
   "id": "958507bf",
   "metadata": {},
   "outputs": [
    {
     "data": {
      "text/plain": [
       "[('like', 492),\n",
       " ('get', 415),\n",
       " ('one', 384),\n",
       " ('would', 288),\n",
       " ('fuck', 284),\n",
       " ('know', 256),\n",
       " ('people', 243),\n",
       " ('fucking', 240),\n",
       " ('shit', 237),\n",
       " ('make', 227),\n",
       " ('time', 212),\n",
       " ('want', 209),\n",
       " ('stupid', 202),\n",
       " ('see', 200),\n",
       " ('good', 198),\n",
       " ('think', 192),\n",
       " ('love', 191),\n",
       " (\"i'm\", 177),\n",
       " ('-', 173),\n",
       " ('it.', 169),\n",
       " ('really', 168),\n",
       " ('could', 167),\n",
       " ('ass', 160),\n",
       " ('way', 159),\n",
       " ('going', 157)]"
      ]
     },
     "execution_count": 70,
     "metadata": {},
     "output_type": "execute_result"
    }
   ],
   "source": [
    "mycounter2=Counter(\" \".join(t200_train[\"text\"]).lower().split())\n",
    "for sword in stop_words:\n",
    "    del mycounter2[sword]\n",
    "    \n",
    "    \n",
    "mycounter2.most_common(25)"
   ]
  },
  {
   "cell_type": "code",
   "execution_count": 89,
   "id": "8919c20c",
   "metadata": {},
   "outputs": [],
   "source": [
    "cv1 = CountVectorizer(ngram_range=(3,3))\n",
    "trigrams = cv1.fit_transform(t200_train[t200_train['label']==0][\"text\"])\n",
    "count_values = trigrams.toarray().sum(axis=0)\n",
    "ngram_freq = pd.DataFrame(sorted([(count_values[i], k) for k, i in cv1.vocabulary_.items()], reverse = True))\n",
    "ngram_freq.columns = [\"frequency\", \"ngram\"]\n"
   ]
  },
  {
   "cell_type": "code",
   "execution_count": 90,
   "id": "0b40351b",
   "metadata": {},
   "outputs": [
    {
     "data": {
      "image/png": "[encoded data removed]",
      "text/plain": [
       "<Figure size 640x480 with 1 Axes>"
      ]
     },
     "metadata": {},
     "output_type": "display_data"
    }
   ],
   "source": [
    "sns.barplot(x=ngram_freq['frequency'][:10], y=ngram_freq['ngram'][:10])\n",
    "plt.title('Top 10 Most Frequently Occuring Trigrams- Nontoxic')\n",
    "plt.show()"
   ]
  },
  {
   "cell_type": "code",
   "execution_count": 147,
   "id": "f902ea99",
   "metadata": {},
   "outputs": [
    {
     "data": {
      "image/png": "[encoded data removed]",
      "text/plain": [
       "<Figure size 640x480 with 1 Axes>"
      ]
     },
     "metadata": {},
     "output_type": "display_data"
    }
   ],
   "source": [
    "words = []\n",
    "freq = []\n",
    "\n",
    "for word, count in my_counter.most_common(25):\n",
    "    words.append(word)\n",
    "    freq.append(count)\n",
    "sns.barplot(x=freq, y=words)\n",
    "plt.title('Top 25 Most Frequently Occuring Words- Non-Toxic')\n",
    "plt.show()"
   ]
  },
  {
   "cell_type": "code",
   "execution_count": 129,
   "id": "343f64b2",
   "metadata": {},
   "outputs": [
    {
     "data": {
      "text/plain": [
       "[('like', 363),\n",
       " ('fuck', 283),\n",
       " ('get', 259),\n",
       " ('fucking', 240),\n",
       " ('shit', 237),\n",
       " ('stupid', 202),\n",
       " ('one', 193),\n",
       " ('would', 184),\n",
       " ('ass', 160),\n",
       " ('people', 158),\n",
       " ('know', 150),\n",
       " ('think', 133),\n",
       " (\"i'm\", 131),\n",
       " ('want', 128),\n",
       " ('make', 128),\n",
       " ('going', 119),\n",
       " ('love', 116),\n",
       " ('good', 115),\n",
       " ('really', 115),\n",
       " ('it.', 113),\n",
       " ('time', 107),\n",
       " ('could', 101),\n",
       " ('don’t', 98),\n",
       " ('see', 96),\n",
       " ('way', 95)]"
      ]
     },
     "execution_count": 129,
     "metadata": {},
     "output_type": "execute_result"
    }
   ],
   "source": [
    "mycounter_1.most_common(25)"
   ]
  },
  {
   "cell_type": "code",
   "execution_count": 209,
   "id": "8942a02f",
   "metadata": {},
   "outputs": [
    {
     "data": {
      "text/plain": [
       "3"
      ]
     },
     "execution_count": 209,
     "metadata": {},
     "output_type": "execute_result"
    }
   ],
   "source": [
    "t200_train['word_count'].min()"
   ]
  },
  {
   "cell_type": "markdown",
   "id": "6fb2fffb",
   "metadata": {},
   "source": [
    "# Jigsaw Dataset"
   ]
  },
  {
   "cell_type": "code",
   "execution_count": 5,
   "id": "fce3664f",
   "metadata": {},
   "outputs": [],
   "source": [
    "jigsaw_train = pd.read_json('raw_data/commercial-use-allowed/en/English_jigsaw/train_YC.json')\n"
   ]
  },
  {
   "cell_type": "code",
   "execution_count": 7,
   "id": "3750b1df",
   "metadata": {},
   "outputs": [],
   "source": [
    "js_train = pd.json_normalize(jigsaw_train['data'])"
   ]
  },
  {
   "cell_type": "code",
   "execution_count": 151,
   "id": "39a0e67b",
   "metadata": {},
   "outputs": [
    {
     "data": {
      "text/html": [
       "<div>\n",
       "<style scoped>\n",
       "    .dataframe tbody tr th:only-of-type {\n",
       "        vertical-align: middle;\n",
       "    }\n",
       "\n",
       "    .dataframe tbody tr th {\n",
       "        vertical-align: top;\n",
       "    }\n",
       "\n",
       "    .dataframe thead th {\n",
       "        text-align: right;\n",
       "    }\n",
       "</style>\n",
       "<table border=\"1\" class=\"dataframe\">\n",
       "  <thead>\n",
       "    <tr style=\"text-align: right;\">\n",
       "      <th></th>\n",
       "      <th>text</th>\n",
       "      <th>label</th>\n",
       "    </tr>\n",
       "  </thead>\n",
       "  <tbody>\n",
       "    <tr>\n",
       "      <th>0</th>\n",
       "      <td>That's right. They are not normal. And I am st...</td>\n",
       "      <td>1</td>\n",
       "    </tr>\n",
       "    <tr>\n",
       "      <th>1</th>\n",
       "      <td>Only a fool would believe that the MSM is not ...</td>\n",
       "      <td>1</td>\n",
       "    </tr>\n",
       "    <tr>\n",
       "      <th>2</th>\n",
       "      <td>because the Oregon state school board is compr...</td>\n",
       "      <td>1</td>\n",
       "    </tr>\n",
       "    <tr>\n",
       "      <th>3</th>\n",
       "      <td>yep, this crap sounds like its from a libertarian</td>\n",
       "      <td>1</td>\n",
       "    </tr>\n",
       "    <tr>\n",
       "      <th>4</th>\n",
       "      <td>IRT Marilyn what a completely stupid letter ab...</td>\n",
       "      <td>1</td>\n",
       "    </tr>\n",
       "    <tr>\n",
       "      <th>...</th>\n",
       "      <td>...</td>\n",
       "      <td>...</td>\n",
       "    </tr>\n",
       "    <tr>\n",
       "      <th>1323728</th>\n",
       "      <td>He called her “daughter” and she referred to M...</td>\n",
       "      <td>1</td>\n",
       "    </tr>\n",
       "    <tr>\n",
       "      <th>1323729</th>\n",
       "      <td>Her \"taxed\" feminism still does not brush away...</td>\n",
       "      <td>1</td>\n",
       "    </tr>\n",
       "    <tr>\n",
       "      <th>1323730</th>\n",
       "      <td>Get your head out of your s. NADA you just des...</td>\n",
       "      <td>1</td>\n",
       "    </tr>\n",
       "    <tr>\n",
       "      <th>1323731</th>\n",
       "      <td>Why, because he was a white guy running for th...</td>\n",
       "      <td>1</td>\n",
       "    </tr>\n",
       "    <tr>\n",
       "      <th>1323732</th>\n",
       "      <td>It's very clear--she's a black woman. As such,...</td>\n",
       "      <td>1</td>\n",
       "    </tr>\n",
       "  </tbody>\n",
       "</table>\n",
       "<p>1323733 rows × 2 columns</p>\n",
       "</div>"
      ],
      "text/plain": [
       "                                                      text  label\n",
       "0        That's right. They are not normal. And I am st...      1\n",
       "1        Only a fool would believe that the MSM is not ...      1\n",
       "2        because the Oregon state school board is compr...      1\n",
       "3        yep, this crap sounds like its from a libertarian      1\n",
       "4        IRT Marilyn what a completely stupid letter ab...      1\n",
       "...                                                    ...    ...\n",
       "1323728  He called her “daughter” and she referred to M...      1\n",
       "1323729  Her \"taxed\" feminism still does not brush away...      1\n",
       "1323730  Get your head out of your s. NADA you just des...      1\n",
       "1323731  Why, because he was a white guy running for th...      1\n",
       "1323732  It's very clear--she's a black woman. As such,...      1\n",
       "\n",
       "[1323733 rows x 2 columns]"
      ]
     },
     "execution_count": 151,
     "metadata": {},
     "output_type": "execute_result"
    }
   ],
   "source": [
    "js_train"
   ]
  },
  {
   "cell_type": "code",
   "execution_count": 8,
   "id": "49e36837",
   "metadata": {},
   "outputs": [],
   "source": [
    "js_train['word_count'] = js_train['text'].apply(lambda x: len(str(x).split()))"
   ]
  },
  {
   "cell_type": "code",
   "execution_count": 91,
   "id": "9b1321b6",
   "metadata": {},
   "outputs": [
    {
     "data": {
      "text/plain": [
       "0.0749819434413023"
      ]
     },
     "execution_count": 91,
     "metadata": {},
     "output_type": "execute_result"
    }
   ],
   "source": [
    "6748/89995"
   ]
  },
  {
   "cell_type": "code",
   "execution_count": 152,
   "id": "69dec9bb",
   "metadata": {},
   "outputs": [
    {
     "data": {
      "text/plain": [
       "label\n",
       "0    1265059\n",
       "1      58674\n",
       "Name: count, dtype: int64"
      ]
     },
     "execution_count": 152,
     "metadata": {},
     "output_type": "execute_result"
    }
   ],
   "source": [
    "js_train['label'].value_counts()"
   ]
  },
  {
   "cell_type": "code",
   "execution_count": 12,
   "id": "9728aada",
   "metadata": {},
   "outputs": [
    {
     "data": {
      "text/plain": [
       "0    10\n",
       "Name: word_count, dtype: int64"
      ]
     },
     "execution_count": 12,
     "metadata": {},
     "output_type": "execute_result"
    }
   ],
   "source": [
    "js_train['word_count'].mode()"
   ]
  },
  {
   "cell_type": "code",
   "execution_count": 15,
   "id": "81d05197",
   "metadata": {},
   "outputs": [
    {
     "data": {
      "text/html": [
       "<div>\n",
       "<style scoped>\n",
       "    .dataframe tbody tr th:only-of-type {\n",
       "        vertical-align: middle;\n",
       "    }\n",
       "\n",
       "    .dataframe tbody tr th {\n",
       "        vertical-align: top;\n",
       "    }\n",
       "\n",
       "    .dataframe thead th {\n",
       "        text-align: right;\n",
       "    }\n",
       "</style>\n",
       "<table border=\"1\" class=\"dataframe\">\n",
       "  <thead>\n",
       "    <tr style=\"text-align: right;\">\n",
       "      <th></th>\n",
       "      <th>text</th>\n",
       "      <th>label</th>\n",
       "      <th>word_count</th>\n",
       "    </tr>\n",
       "  </thead>\n",
       "  <tbody>\n",
       "    <tr>\n",
       "      <th>368255</th>\n",
       "      <td></td>\n",
       "      <td>0</td>\n",
       "      <td>0</td>\n",
       "    </tr>\n",
       "  </tbody>\n",
       "</table>\n",
       "</div>"
      ],
      "text/plain": [
       "       text  label  word_count\n",
       "368255           0           0"
      ]
     },
     "execution_count": 15,
     "metadata": {},
     "output_type": "execute_result"
    }
   ],
   "source": [
    "js_train[js_train['word_count']<1]"
   ]
  },
  {
   "cell_type": "code",
   "execution_count": 163,
   "id": "d1d0f0b7",
   "metadata": {},
   "outputs": [
    {
     "data": {
      "text/plain": [
       "0.9556753514492726"
      ]
     },
     "execution_count": 163,
     "metadata": {},
     "output_type": "execute_result"
    }
   ],
   "source": [
    "1265059/1323733"
   ]
  },
  {
   "cell_type": "code",
   "execution_count": 176,
   "id": "b3fd9bf7",
   "metadata": {},
   "outputs": [],
   "source": [
    "js_train['text'] = js_train['text'].str.lower()\n",
    "js_train['text']= js_train['text'].str.replace('[^\\w\\s]','')\n"
   ]
  },
  {
   "cell_type": "code",
   "execution_count": 178,
   "id": "2f4656e7",
   "metadata": {},
   "outputs": [],
   "source": [
    "# js_0_word_count =Counter(\" \".join(js_train[js_train['label']==0]['text'].split()))\n",
    "# js_1_word_count =Counter(\" \".join(js_train[js_train['label']==1][\"text\"].lower().split()))\n",
    "# js_word_count =Counter(\" \".join(js_train[\"text\"].lower().split()))\n",
    "js_0_word_count=Counter(\" \".join(js_train[js_train['label']==0][\"text\"]).split())"
   ]
  },
  {
   "cell_type": "code",
   "execution_count": 191,
   "id": "be0fd3ae",
   "metadata": {},
   "outputs": [
    {
     "data": {
      "image/png": "[encoded data removed]",
      "text/plain": [
       "<Figure size 640x480 with 1 Axes>"
      ]
     },
     "metadata": {},
     "output_type": "display_data"
    }
   ],
   "source": [
    "# js_0_word_count=Counter(\" \".join(js_train[js_train['label']==0][\"text\"]).split())\n",
    "\n",
    "words = []\n",
    "freq = []\n",
    "\n",
    "for word, count in js_0_word_count.most_common(100):\n",
    "    if word not in stopwords.words('english'):\n",
    "        words.append(word)\n",
    "        freq.append(count)\n",
    "sns.barplot(x=freq, y=words)\n",
    "plt.title('Jigsaw EN Top 20 Most Frequently Occuring Words- Non-Toxic')\n",
    "plt.show()"
   ]
  },
  {
   "cell_type": "code",
   "execution_count": 196,
   "id": "c5d231c7",
   "metadata": {},
   "outputs": [
    {
     "data": {
      "image/png": "[encoded data removed]",
      "text/plain": [
       "<Figure size 640x480 with 1 Axes>"
      ]
     },
     "metadata": {},
     "output_type": "display_data"
    }
   ],
   "source": [
    "js_overall_word_count=Counter(\" \".join(js_train[\"text\"]).split())\n",
    "words = []\n",
    "freq = []\n",
    "\n",
    "for word, count in js_overall_word_count.most_common(97):\n",
    "    if word not in stopwords.words('english'):\n",
    "        words.append(word)\n",
    "        freq.append(count)\n",
    "sns.barplot(x=freq, y=words)\n",
    "plt.title('Jigsaw EN Top 20 Most Frequently Occuring Words-Overall')\n",
    "plt.show()"
   ]
  },
  {
   "cell_type": "code",
   "execution_count": null,
   "id": "f0c2a240",
   "metadata": {},
   "outputs": [],
   "source": [
    "js_train.head()"
   ]
  },
  {
   "cell_type": "code",
   "execution_count": 237,
   "id": "684b5139",
   "metadata": {},
   "outputs": [
    {
     "ename": "IndexError",
     "evalue": "index 14230138 is out of bounds for axis 0 with size 1",
     "output_type": "error",
     "traceback": [
      "\u001b[0;31m---------------------------------------------------------------------------\u001b[0m",
      "\u001b[0;31mIndexError\u001b[0m                                Traceback (most recent call last)",
      "Cell \u001b[0;32mIn[237], line 4\u001b[0m\n\u001b[1;32m      2\u001b[0m trigrams \u001b[38;5;241m=\u001b[39m cv1\u001b[38;5;241m.\u001b[39mfit_transform(js_train[js_train[\u001b[38;5;124m'\u001b[39m\u001b[38;5;124mlabel\u001b[39m\u001b[38;5;124m'\u001b[39m]\u001b[38;5;241m==\u001b[39m\u001b[38;5;241m0\u001b[39m][\u001b[38;5;124m\"\u001b[39m\u001b[38;5;124mtext\u001b[39m\u001b[38;5;124m\"\u001b[39m])\n\u001b[1;32m      3\u001b[0m count_values \u001b[38;5;241m=\u001b[39m trigrams\u001b[38;5;241m.\u001b[39msum(axis\u001b[38;5;241m=\u001b[39m\u001b[38;5;241m0\u001b[39m)\n\u001b[0;32m----> 4\u001b[0m ngram_freq \u001b[38;5;241m=\u001b[39m pd\u001b[38;5;241m.\u001b[39mDataFrame(\u001b[38;5;28msorted\u001b[39m([(count_values[i], k) \u001b[38;5;28;01mfor\u001b[39;00m k, i \u001b[38;5;129;01min\u001b[39;00m cv1\u001b[38;5;241m.\u001b[39mvocabulary_\u001b[38;5;241m.\u001b[39mitems()], reverse \u001b[38;5;241m=\u001b[39m \u001b[38;5;28;01mTrue\u001b[39;00m))\n\u001b[1;32m      5\u001b[0m ngram_freq\u001b[38;5;241m.\u001b[39mcolumns \u001b[38;5;241m=\u001b[39m [\u001b[38;5;124m\"\u001b[39m\u001b[38;5;124mfrequency\u001b[39m\u001b[38;5;124m\"\u001b[39m, \u001b[38;5;124m\"\u001b[39m\u001b[38;5;124mngram\u001b[39m\u001b[38;5;124m\"\u001b[39m]\n",
      "Cell \u001b[0;32mIn[237], line 4\u001b[0m, in \u001b[0;36m<listcomp>\u001b[0;34m(.0)\u001b[0m\n\u001b[1;32m      2\u001b[0m trigrams \u001b[38;5;241m=\u001b[39m cv1\u001b[38;5;241m.\u001b[39mfit_transform(js_train[js_train[\u001b[38;5;124m'\u001b[39m\u001b[38;5;124mlabel\u001b[39m\u001b[38;5;124m'\u001b[39m]\u001b[38;5;241m==\u001b[39m\u001b[38;5;241m0\u001b[39m][\u001b[38;5;124m\"\u001b[39m\u001b[38;5;124mtext\u001b[39m\u001b[38;5;124m\"\u001b[39m])\n\u001b[1;32m      3\u001b[0m count_values \u001b[38;5;241m=\u001b[39m trigrams\u001b[38;5;241m.\u001b[39msum(axis\u001b[38;5;241m=\u001b[39m\u001b[38;5;241m0\u001b[39m)\n\u001b[0;32m----> 4\u001b[0m ngram_freq \u001b[38;5;241m=\u001b[39m pd\u001b[38;5;241m.\u001b[39mDataFrame(\u001b[38;5;28msorted\u001b[39m([(\u001b[43mcount_values\u001b[49m\u001b[43m[\u001b[49m\u001b[43mi\u001b[49m\u001b[43m]\u001b[49m, k) \u001b[38;5;28;01mfor\u001b[39;00m k, i \u001b[38;5;129;01min\u001b[39;00m cv1\u001b[38;5;241m.\u001b[39mvocabulary_\u001b[38;5;241m.\u001b[39mitems()], reverse \u001b[38;5;241m=\u001b[39m \u001b[38;5;28;01mTrue\u001b[39;00m))\n\u001b[1;32m      5\u001b[0m ngram_freq\u001b[38;5;241m.\u001b[39mcolumns \u001b[38;5;241m=\u001b[39m [\u001b[38;5;124m\"\u001b[39m\u001b[38;5;124mfrequency\u001b[39m\u001b[38;5;124m\"\u001b[39m, \u001b[38;5;124m\"\u001b[39m\u001b[38;5;124mngram\u001b[39m\u001b[38;5;124m\"\u001b[39m]\n",
      "File \u001b[0;32m~/.conda/envs/t4j/lib/python3.8/site-packages/numpy/matrixlib/defmatrix.py:193\u001b[0m, in \u001b[0;36mmatrix.__getitem__\u001b[0;34m(self, index)\u001b[0m\n\u001b[1;32m    190\u001b[0m \u001b[38;5;28mself\u001b[39m\u001b[38;5;241m.\u001b[39m_getitem \u001b[38;5;241m=\u001b[39m \u001b[38;5;28;01mTrue\u001b[39;00m\n\u001b[1;32m    192\u001b[0m \u001b[38;5;28;01mtry\u001b[39;00m:\n\u001b[0;32m--> 193\u001b[0m     out \u001b[38;5;241m=\u001b[39m \u001b[43mN\u001b[49m\u001b[38;5;241;43m.\u001b[39;49m\u001b[43mndarray\u001b[49m\u001b[38;5;241;43m.\u001b[39;49m\u001b[38;5;21;43m__getitem__\u001b[39;49m\u001b[43m(\u001b[49m\u001b[38;5;28;43mself\u001b[39;49m\u001b[43m,\u001b[49m\u001b[43m \u001b[49m\u001b[43mindex\u001b[49m\u001b[43m)\u001b[49m\n\u001b[1;32m    194\u001b[0m \u001b[38;5;28;01mfinally\u001b[39;00m:\n\u001b[1;32m    195\u001b[0m     \u001b[38;5;28mself\u001b[39m\u001b[38;5;241m.\u001b[39m_getitem \u001b[38;5;241m=\u001b[39m \u001b[38;5;28;01mFalse\u001b[39;00m\n",
      "\u001b[0;31mIndexError\u001b[0m: index 14230138 is out of bounds for axis 0 with size 1"
     ]
    }
   ],
   "source": [
    "cv1 = CountVectorizer(ngram_range=(3,3))\n",
    "trigrams = cv1.fit_transform(js_train[js_train['label']==0][\"text\"])\n",
    "count_values = trigrams.toarray().sum(axis=0)# toarray() before sum() causes memory error\n",
    "ngram_freq = pd.DataFrame(sorted([(count_values[i], k) for k, i in cv1.vocabulary_.items()], reverse = True))\n",
    "ngram_freq.columns = [\"frequency\", \"ngram\"]\n"
   ]
  },
  {
   "cell_type": "code",
   "execution_count": null,
   "id": "8c60d899",
   "metadata": {},
   "outputs": [],
   "source": [
    "sns.barplot(x=ngram_freq['frequency'][:10], y=ngram_freq['ngram'][:10])\n",
    "plt.title('Top 10 Most Frequently Occuring Trigrams- Nontoxic')\n",
    "plt.show()"
   ]
  },
  {
   "cell_type": "code",
   "execution_count": 199,
   "id": "6a7aeddd",
   "metadata": {},
   "outputs": [
    {
     "name": "stdout",
     "output_type": "stream",
     "text": [
      "Collecting datatable\n",
      "  Downloading datatable-1.0.0-cp38-cp38-manylinux_2_12_x86_64.whl (96.6 MB)\n",
      "\u001b[2K     \u001b[90m━━━━━━━━━━━━━━━━━━━━━━━━━━━━━━━━━━━━━━━━\u001b[0m \u001b[32m96.6/96.6 MB\u001b[0m \u001b[31m25.2 MB/s\u001b[0m eta \u001b[36m0:00:00\u001b[0m00:01\u001b[0m00:01\u001b[0m\n",
      "\u001b[?25hInstalling collected packages: datatable\n",
      "Successfully installed datatable-1.0.0\n"
     ]
    }
   ],
   "source": [
    "!pip3 install datatable\n"
   ]
  },
  {
   "cell_type": "code",
   "execution_count": 200,
   "id": "5944d2f6",
   "metadata": {},
   "outputs": [
    {
     "data": {
      "text/html": [
       "<style type='text/css'>\n",
       ".datatable table.frame { margin-bottom: 0; }\n",
       ".datatable table.frame thead { border-bottom: none; }\n",
       ".datatable table.frame tr.coltypes td {  color: #FFFFFF;  line-height: 6px;  padding: 0 0.5em;}\n",
       ".datatable .bool    { background: #DDDD99; }\n",
       ".datatable .object  { background: #565656; }\n",
       ".datatable .int     { background: #5D9E5D; }\n",
       ".datatable .float   { background: #4040CC; }\n",
       ".datatable .str     { background: #CC4040; }\n",
       ".datatable .time    { background: #40CC40; }\n",
       ".datatable .row_index {  background: var(--jp-border-color3);  border-right: 1px solid var(--jp-border-color0);  color: var(--jp-ui-font-color3);  font-size: 9px;}\n",
       ".datatable .frame tbody td { text-align: left; }\n",
       ".datatable .frame tr.coltypes .row_index {  background: var(--jp-border-color0);}\n",
       ".datatable th:nth-child(2) { padding-left: 12px; }\n",
       ".datatable .hellipsis {  color: var(--jp-cell-editor-border-color);}\n",
       ".datatable .vellipsis {  background: var(--jp-layout-color0);  color: var(--jp-cell-editor-border-color);}\n",
       ".datatable .na {  color: var(--jp-cell-editor-border-color);  font-size: 80%;}\n",
       ".datatable .sp {  opacity: 0.25;}\n",
       ".datatable .footer { font-size: 9px; }\n",
       ".datatable .frame_dimensions {  background: var(--jp-border-color3);  border-top: 1px solid var(--jp-border-color0);  color: var(--jp-ui-font-color3);  display: inline-block;  opacity: 0.6;  padding: 1px 10px 1px 5px;}\n",
       "</style>\n"
      ],
      "text/plain": [
       "<IPython.core.display.HTML object>"
      ]
     },
     "metadata": {},
     "output_type": "display_data"
    }
   ],
   "source": [
    "import datatable as dt\n"
   ]
  },
  {
   "cell_type": "code",
   "execution_count": 202,
   "id": "98400eaa",
   "metadata": {},
   "outputs": [],
   "source": [
    "jigsaw_train_dt = dt.Frame(js_train)\n"
   ]
  },
  {
   "cell_type": "code",
   "execution_count": 203,
   "id": "9e471fe9",
   "metadata": {},
   "outputs": [
    {
     "data": {
      "text/html": [
       "<div class='datatable'>\n",
       "  <table class='frame'>\n",
       "  <thead>\n",
       "    <tr class='colnames'><td class='row_index'></td><th>text</th><th>label</th><th>word_count</th></tr>\n",
       "    <tr class='coltypes'><td class='row_index'></td><td class='str' title='str32'>&#x25AA;&#x25AA;&#x25AA;&#x25AA;</td><td class='int' title='int64'>&#x25AA;&#x25AA;&#x25AA;&#x25AA;&#x25AA;&#x25AA;&#x25AA;&#x25AA;</td><td class='int' title='int64'>&#x25AA;&#x25AA;&#x25AA;&#x25AA;&#x25AA;&#x25AA;&#x25AA;&#x25AA;</td></tr>\n",
       "  </thead>\n",
       "  <tbody>\n",
       "    <tr><td class='row_index'>0</td><td>that's right. they are not normal. and i am starti&#133;</td><td>1</td><td>26</td></tr>\n",
       "    <tr><td class='row_index'>1</td><td>only a fool would believe that the msm is not bias&#133;</td><td>1</td><td>14</td></tr>\n",
       "    <tr><td class='row_index'>2</td><td>because the oregon state school board is comprised&#133;</td><td>1</td><td>32</td></tr>\n",
       "    <tr><td class='row_index'>3</td><td>yep, this crap sounds like its from a libertarian</td><td>1</td><td>9</td></tr>\n",
       "    <tr><td class='row_index'>4</td><td>irt marilyn what a completely stupid letter about &#133;</td><td>1</td><td>41</td></tr>\n",
       "    <tr><td class='row_index'>5</td><td>\"watch people die from taking away their healthcar&#133;</td><td>1</td><td>19</td></tr>\n",
       "    <tr><td class='row_index'>6</td><td>to protest such is meaningless stupidity of the le&#133;</td><td>1</td><td>77</td></tr>\n",
       "    <tr><td class='row_index'>7</td><td>lol really. no offence but that’s an idiotic state&#133;</td><td>1</td><td>162</td></tr>\n",
       "    <tr><td class='row_index'>8</td><td>stupid is what stupid thinks (and says). cheers, r&#133;</td><td>1</td><td>10</td></tr>\n",
       "    <tr><td class='row_index'>9</td><td>\"trump said “i’ll tell you about that maybe someti&#133;</td><td>1</td><td>37</td></tr>\n",
       "    <tr><td class='row_index'>10</td><td>tens years ago i contacted the pdr and suggested t&#133;</td><td>1</td><td>86</td></tr>\n",
       "    <tr><td class='row_index'>11</td><td>bunch of inefficient goons. can't believe why our &#133;</td><td>1</td><td>64</td></tr>\n",
       "    <tr><td class='row_index'>12</td><td>wow! sara fredericks is a hate-filled monster!</td><td>1</td><td>7</td></tr>\n",
       "    <tr><td class='row_index'>13</td><td>leftarded snowflake i bet this dumb broad thinks t&#133;</td><td>1</td><td>11</td></tr>\n",
       "    <tr><td class='row_index'>14</td><td>leftist arguments are so ridiculous. are you troll&#133;</td><td>1</td><td>11</td></tr>\n",
       "    <tr><td class='row_index'>&#x22EE;</td><td class='hellipsis'>&#x22EE;</td><td class='hellipsis'>&#x22EE;</td><td class='hellipsis'>&#x22EE;</td></tr>\n",
       "    <tr><td class='row_index'>1,323,728</td><td>he called her “daughter” and she referred to mr. m&#133;</td><td>1</td><td>27</td></tr>\n",
       "    <tr><td class='row_index'>1,323,729</td><td>her \"taxed\" feminism still does not brush away the&#133;</td><td>1</td><td>65</td></tr>\n",
       "    <tr><td class='row_index'>1,323,730</td><td>get your head out of your s. nada you just describ&#133;</td><td>1</td><td>146</td></tr>\n",
       "    <tr><td class='row_index'>1,323,731</td><td>why, because he was a white guy running for the of&#133;</td><td>1</td><td>19</td></tr>\n",
       "    <tr><td class='row_index'>1,323,732</td><td>it's very clear--she's a black woman. as such, she&#133;</td><td>1</td><td>17</td></tr>\n",
       "  </tbody>\n",
       "  </table>\n",
       "  <div class='footer'>\n",
       "    <div class='frame_dimensions'>1,323,733 rows &times; 3 columns</div>\n",
       "  </div>\n",
       "</div>\n"
      ],
      "text/plain": [
       "<Frame#7fc81db41fc0 1323733x3>"
      ]
     },
     "execution_count": 203,
     "metadata": {},
     "output_type": "execute_result"
    }
   ],
   "source": [
    "jigsaw_train_dt"
   ]
  },
  {
   "cell_type": "code",
   "execution_count": 236,
   "id": "a650ce18",
   "metadata": {},
   "outputs": [
    {
     "ename": "TypeError",
     "evalue": "Column selector must be an integer or a string, not <class 'bool'>",
     "output_type": "error",
     "traceback": [
      "\u001b[0;31m---------------------------------------------------------------------------\u001b[0m",
      "\u001b[0;31mTypeError\u001b[0m                                 Traceback (most recent call last)",
      "Cell \u001b[0;32mIn[236], line 2\u001b[0m\n\u001b[1;32m      1\u001b[0m cv1 \u001b[38;5;241m=\u001b[39m CountVectorizer(ngram_range\u001b[38;5;241m=\u001b[39m(\u001b[38;5;241m3\u001b[39m,\u001b[38;5;241m3\u001b[39m))\n\u001b[0;32m----> 2\u001b[0m trigrams \u001b[38;5;241m=\u001b[39m cv1\u001b[38;5;241m.\u001b[39mfit_transform(\u001b[43mjigsaw_train_dt\u001b[49m\u001b[43m[\u001b[49m\u001b[43mjigsaw_train_dt\u001b[49m\u001b[43m[\u001b[49m\u001b[38;5;124;43m'\u001b[39;49m\u001b[38;5;124;43mlabel\u001b[39;49m\u001b[38;5;124;43m'\u001b[39;49m\u001b[43m]\u001b[49m\u001b[38;5;241;43m==\u001b[39;49m\u001b[38;5;241;43m0\u001b[39;49m\u001b[43m]\u001b[49m[\u001b[38;5;124m\"\u001b[39m\u001b[38;5;124mtext\u001b[39m\u001b[38;5;124m\"\u001b[39m])\n\u001b[1;32m      3\u001b[0m count_values \u001b[38;5;241m=\u001b[39m trigrams\u001b[38;5;241m.\u001b[39mtoarray()\u001b[38;5;241m.\u001b[39msum(axis\u001b[38;5;241m=\u001b[39m\u001b[38;5;241m0\u001b[39m)\n\u001b[1;32m      4\u001b[0m ngram_freq \u001b[38;5;241m=\u001b[39m pd\u001b[38;5;241m.\u001b[39mDataFrame(\u001b[38;5;28msorted\u001b[39m([(count_values[i], k) \u001b[38;5;28;01mfor\u001b[39;00m k, i \u001b[38;5;129;01min\u001b[39;00m cv1\u001b[38;5;241m.\u001b[39mvocabulary_\u001b[38;5;241m.\u001b[39mitems()], reverse \u001b[38;5;241m=\u001b[39m \u001b[38;5;28;01mTrue\u001b[39;00m))\n",
      "\u001b[0;31mTypeError\u001b[0m: Column selector must be an integer or a string, not <class 'bool'>"
     ]
    }
   ],
   "source": [
    "cv1 = CountVectorizer(ngram_range=(3,3))\n",
    "trigrams = cv1.fit_transform(jigsaw_train_dt[jigsaw_train_dt['label']==0][\"text\"])\n",
    "count_values = trigrams.toarray().sum(axis=0)\n",
    "ngram_freq = pd.DataFrame(sorted([(count_values[i], k) for k, i in cv1.vocabulary_.items()], reverse = True))\n",
    "ngram_freq.columns = [\"frequency\", \"ngram\"]\n"
   ]
  },
  {
   "cell_type": "code",
   "execution_count": 235,
   "id": "aa544fd8",
   "metadata": {},
   "outputs": [
    {
     "data": {
      "text/html": [
       "<div>\n",
       "<style scoped>\n",
       "    .dataframe tbody tr th:only-of-type {\n",
       "        vertical-align: middle;\n",
       "    }\n",
       "\n",
       "    .dataframe tbody tr th {\n",
       "        vertical-align: top;\n",
       "    }\n",
       "\n",
       "    .dataframe thead th {\n",
       "        text-align: right;\n",
       "    }\n",
       "</style>\n",
       "<table border=\"1\" class=\"dataframe\">\n",
       "  <thead>\n",
       "    <tr style=\"text-align: right;\">\n",
       "      <th></th>\n",
       "      <th>text</th>\n",
       "      <th>label</th>\n",
       "      <th>word_count</th>\n",
       "    </tr>\n",
       "  </thead>\n",
       "  <tbody>\n",
       "    <tr>\n",
       "      <th>4587</th>\n",
       "      <td>advice</td>\n",
       "      <td>0</td>\n",
       "      <td>1</td>\n",
       "    </tr>\n",
       "    <tr>\n",
       "      <th>4699</th>\n",
       "      <td>bingo!!!</td>\n",
       "      <td>0</td>\n",
       "      <td>1</td>\n",
       "    </tr>\n",
       "    <tr>\n",
       "      <th>4825</th>\n",
       "      <td>amen!</td>\n",
       "      <td>0</td>\n",
       "      <td>1</td>\n",
       "    </tr>\n",
       "    <tr>\n",
       "      <th>4842</th>\n",
       "      <td>x100,000!!!</td>\n",
       "      <td>0</td>\n",
       "      <td>1</td>\n",
       "    </tr>\n",
       "    <tr>\n",
       "      <th>4984</th>\n",
       "      <td>http://www.cruiselawnews.com/2016/12/articles/...</td>\n",
       "      <td>0</td>\n",
       "      <td>1</td>\n",
       "    </tr>\n",
       "    <tr>\n",
       "      <th>5006</th>\n",
       "      <td>http://www.ncregister.com/blog/reilly/the-land...</td>\n",
       "      <td>0</td>\n",
       "      <td>1</td>\n",
       "    </tr>\n",
       "    <tr>\n",
       "      <th>5079</th>\n",
       "      <td>muricah!!!!1111</td>\n",
       "      <td>0</td>\n",
       "      <td>1</td>\n",
       "    </tr>\n",
       "    <tr>\n",
       "      <th>5138</th>\n",
       "      <td>test</td>\n",
       "      <td>0</td>\n",
       "      <td>1</td>\n",
       "    </tr>\n",
       "    <tr>\n",
       "      <th>5229</th>\n",
       "      <td>branding_won_out_on_that_issue.</td>\n",
       "      <td>0</td>\n",
       "      <td>1</td>\n",
       "    </tr>\n",
       "    <tr>\n",
       "      <th>5236</th>\n",
       "      <td>closet.</td>\n",
       "      <td>0</td>\n",
       "      <td>1</td>\n",
       "    </tr>\n",
       "    <tr>\n",
       "      <th>5494</th>\n",
       "      <td>oh.</td>\n",
       "      <td>0</td>\n",
       "      <td>1</td>\n",
       "    </tr>\n",
       "    <tr>\n",
       "      <th>5550</th>\n",
       "      <td>never.</td>\n",
       "      <td>0</td>\n",
       "      <td>1</td>\n",
       "    </tr>\n",
       "    <tr>\n",
       "      <th>5553</th>\n",
       "      <td>https://townhall.com/columnists/brucebialosky/...</td>\n",
       "      <td>0</td>\n",
       "      <td>1</td>\n",
       "    </tr>\n",
       "    <tr>\n",
       "      <th>5558</th>\n",
       "      <td>yeth.</td>\n",
       "      <td>0</td>\n",
       "      <td>1</td>\n",
       "    </tr>\n",
       "    <tr>\n",
       "      <th>5677</th>\n",
       "      <td>its_an_unfortunate_phrase._this_is_what_freedo...</td>\n",
       "      <td>0</td>\n",
       "      <td>1</td>\n",
       "    </tr>\n",
       "    <tr>\n",
       "      <th>5755</th>\n",
       "      <td>awesome!</td>\n",
       "      <td>0</td>\n",
       "      <td>1</td>\n",
       "    </tr>\n",
       "    <tr>\n",
       "      <th>5848</th>\n",
       "      <td>http://www.ag.ny.gov/press-release/ag-schneide...</td>\n",
       "      <td>0</td>\n",
       "      <td>1</td>\n",
       "    </tr>\n",
       "    <tr>\n",
       "      <th>6056</th>\n",
       "      <td>move.</td>\n",
       "      <td>0</td>\n",
       "      <td>1</td>\n",
       "    </tr>\n",
       "    <tr>\n",
       "      <th>6094</th>\n",
       "      <td>agreed</td>\n",
       "      <td>0</td>\n",
       "      <td>1</td>\n",
       "    </tr>\n",
       "    <tr>\n",
       "      <th>6367</th>\n",
       "      <td>??</td>\n",
       "      <td>0</td>\n",
       "      <td>1</td>\n",
       "    </tr>\n",
       "    <tr>\n",
       "      <th>6467</th>\n",
       "      <td>pandering.</td>\n",
       "      <td>0</td>\n",
       "      <td>1</td>\n",
       "    </tr>\n",
       "    <tr>\n",
       "      <th>6567</th>\n",
       "      <td>yikes!</td>\n",
       "      <td>0</td>\n",
       "      <td>1</td>\n",
       "    </tr>\n",
       "    <tr>\n",
       "      <th>6619</th>\n",
       "      <td>parthogenesis?</td>\n",
       "      <td>0</td>\n",
       "      <td>1</td>\n",
       "    </tr>\n",
       "    <tr>\n",
       "      <th>6631</th>\n",
       "      <td>https://en.wikipedia.org/wiki/victim_blaming</td>\n",
       "      <td>0</td>\n",
       "      <td>1</td>\n",
       "    </tr>\n",
       "    <tr>\n",
       "      <th>6646</th>\n",
       "      <td>sure_we_can._we_can_provide_a_venue_for_it_to_...</td>\n",
       "      <td>0</td>\n",
       "      <td>1</td>\n",
       "    </tr>\n",
       "    <tr>\n",
       "      <th>6680</th>\n",
       "      <td>anybody...?</td>\n",
       "      <td>0</td>\n",
       "      <td>1</td>\n",
       "    </tr>\n",
       "    <tr>\n",
       "      <th>6890</th>\n",
       "      <td>http://www.businessinsider.com/nasa-scientists...</td>\n",
       "      <td>0</td>\n",
       "      <td>1</td>\n",
       "    </tr>\n",
       "    <tr>\n",
       "      <th>6907</th>\n",
       "      <td>huh??</td>\n",
       "      <td>0</td>\n",
       "      <td>1</td>\n",
       "    </tr>\n",
       "    <tr>\n",
       "      <th>6991</th>\n",
       "      <td>triggrerrrrrrrred!!!</td>\n",
       "      <td>0</td>\n",
       "      <td>1</td>\n",
       "    </tr>\n",
       "    <tr>\n",
       "      <th>7047</th>\n",
       "      <td>proof?</td>\n",
       "      <td>0</td>\n",
       "      <td>1</td>\n",
       "    </tr>\n",
       "  </tbody>\n",
       "</table>\n",
       "</div>"
      ],
      "text/plain": [
       "                                                   text  label  word_count\n",
       "4587                                             advice      0           1\n",
       "4699                                           bingo!!!      0           1\n",
       "4825                                              amen!      0           1\n",
       "4842                                        x100,000!!!      0           1\n",
       "4984  http://www.cruiselawnews.com/2016/12/articles/...      0           1\n",
       "5006  http://www.ncregister.com/blog/reilly/the-land...      0           1\n",
       "5079                                    muricah!!!!1111      0           1\n",
       "5138                                               test      0           1\n",
       "5229                    branding_won_out_on_that_issue.      0           1\n",
       "5236                                            closet.      0           1\n",
       "5494                                                oh.      0           1\n",
       "5550                                             never.      0           1\n",
       "5553  https://townhall.com/columnists/brucebialosky/...      0           1\n",
       "5558                                              yeth.      0           1\n",
       "5677  its_an_unfortunate_phrase._this_is_what_freedo...      0           1\n",
       "5755                                           awesome!      0           1\n",
       "5848  http://www.ag.ny.gov/press-release/ag-schneide...      0           1\n",
       "6056                                              move.      0           1\n",
       "6094                                             agreed      0           1\n",
       "6367                                                 ??      0           1\n",
       "6467                                         pandering.      0           1\n",
       "6567                                             yikes!      0           1\n",
       "6619                                     parthogenesis?      0           1\n",
       "6631       https://en.wikipedia.org/wiki/victim_blaming      0           1\n",
       "6646  sure_we_can._we_can_provide_a_venue_for_it_to_...      0           1\n",
       "6680                                        anybody...?      0           1\n",
       "6890  http://www.businessinsider.com/nasa-scientists...      0           1\n",
       "6907                                              huh??      0           1\n",
       "6991                               triggrerrrrrrrred!!!      0           1\n",
       "7047                                             proof?      0           1"
      ]
     },
     "execution_count": 235,
     "metadata": {},
     "output_type": "execute_result"
    }
   ],
   "source": [
    "js_train[(js_train['word_count']==1) &(js_train['label']==0)].head(30)"
   ]
  },
  {
   "cell_type": "markdown",
   "id": "d40a0120",
   "metadata": {},
   "source": [
    "# English Twitter Crowd 80k"
   ]
  },
  {
   "cell_type": "code",
   "execution_count": 50,
   "id": "d429e9da",
   "metadata": {},
   "outputs": [],
   "source": [
    "twit_crowd_train = pd.read_json('raw_data/commercial-use-allowed/en/English_twitter_crowd80k/test_YC.json')\n",
    "twit_crowd_train = pd.read_json('raw_data/commercial-use-allowed/en/English_twitter_crowd80k/train_YC.json')\n",
    "twit_crowd_val = pd.read_json('raw_data/commercial-use-allowed/en/English_twitter_crowd80k/val_YC.json')"
   ]
  },
  {
   "cell_type": "code",
   "execution_count": 19,
   "id": "e851deee",
   "metadata": {},
   "outputs": [
    {
     "data": {
      "text/html": [
       "<div>\n",
       "<style scoped>\n",
       "    .dataframe tbody tr th:only-of-type {\n",
       "        vertical-align: middle;\n",
       "    }\n",
       "\n",
       "    .dataframe tbody tr th {\n",
       "        vertical-align: top;\n",
       "    }\n",
       "\n",
       "    .dataframe thead th {\n",
       "        text-align: right;\n",
       "    }\n",
       "</style>\n",
       "<table border=\"1\" class=\"dataframe\">\n",
       "  <thead>\n",
       "    <tr style=\"text-align: right;\">\n",
       "      <th></th>\n",
       "      <th>version</th>\n",
       "      <th>data</th>\n",
       "    </tr>\n",
       "  </thead>\n",
       "  <tbody>\n",
       "    <tr>\n",
       "      <th>0</th>\n",
       "      <td>English_twitter_80k</td>\n",
       "      <td>{'text': '#HarryOnCapital is love. #HarryOnCap...</td>\n",
       "    </tr>\n",
       "    <tr>\n",
       "      <th>1</th>\n",
       "      <td>English_twitter_80k</td>\n",
       "      <td>{'text': '@d_a_sausages #lighter nights, bloss...</td>\n",
       "    </tr>\n",
       "    <tr>\n",
       "      <th>2</th>\n",
       "      <td>English_twitter_80k</td>\n",
       "      <td>{'text': 'Nasty stockings lesbians go down htt...</td>\n",
       "    </tr>\n",
       "    <tr>\n",
       "      <th>3</th>\n",
       "      <td>English_twitter_80k</td>\n",
       "      <td>{'text': 'Panera took off the BBQ chicken sala...</td>\n",
       "    </tr>\n",
       "    <tr>\n",
       "      <th>4</th>\n",
       "      <td>English_twitter_80k</td>\n",
       "      <td>{'text': 'Chelsea fans will be happy about Thi...</td>\n",
       "    </tr>\n",
       "    <tr>\n",
       "      <th>...</th>\n",
       "      <td>...</td>\n",
       "      <td>...</td>\n",
       "    </tr>\n",
       "    <tr>\n",
       "      <th>89990</th>\n",
       "      <td>English_twitter_80k</td>\n",
       "      <td>{'text': 'If @TabTeamRacing Blue beat @EUSC_sa...</td>\n",
       "    </tr>\n",
       "    <tr>\n",
       "      <th>89991</th>\n",
       "      <td>English_twitter_80k</td>\n",
       "      <td>{'text': 'Ion like fucking w ppl FRFR niggas d...</td>\n",
       "    </tr>\n",
       "    <tr>\n",
       "      <th>89992</th>\n",
       "      <td>English_twitter_80k</td>\n",
       "      <td>{'text': 'RT @ZhoBabe: because it's easier and...</td>\n",
       "    </tr>\n",
       "    <tr>\n",
       "      <th>89993</th>\n",
       "      <td>English_twitter_80k</td>\n",
       "      <td>{'text': '@BitterOldPunk @bellebelle Don't Wor...</td>\n",
       "    </tr>\n",
       "    <tr>\n",
       "      <th>89994</th>\n",
       "      <td>English_twitter_80k</td>\n",
       "      <td>{'text': 'Ngunnawal suburb record smashed as b...</td>\n",
       "    </tr>\n",
       "  </tbody>\n",
       "</table>\n",
       "<p>89995 rows × 2 columns</p>\n",
       "</div>"
      ],
      "text/plain": [
       "                   version                                               data\n",
       "0      English_twitter_80k  {'text': '#HarryOnCapital is love. #HarryOnCap...\n",
       "1      English_twitter_80k  {'text': '@d_a_sausages #lighter nights, bloss...\n",
       "2      English_twitter_80k  {'text': 'Nasty stockings lesbians go down htt...\n",
       "3      English_twitter_80k  {'text': 'Panera took off the BBQ chicken sala...\n",
       "4      English_twitter_80k  {'text': 'Chelsea fans will be happy about Thi...\n",
       "...                    ...                                                ...\n",
       "89990  English_twitter_80k  {'text': 'If @TabTeamRacing Blue beat @EUSC_sa...\n",
       "89991  English_twitter_80k  {'text': 'Ion like fucking w ppl FRFR niggas d...\n",
       "89992  English_twitter_80k  {'text': 'RT @ZhoBabe: because it's easier and...\n",
       "89993  English_twitter_80k  {'text': '@BitterOldPunk @bellebelle Don't Wor...\n",
       "89994  English_twitter_80k  {'text': 'Ngunnawal suburb record smashed as b...\n",
       "\n",
       "[89995 rows x 2 columns]"
      ]
     },
     "execution_count": 19,
     "metadata": {},
     "output_type": "execute_result"
    }
   ],
   "source": [
    "twit_crowd_train"
   ]
  },
  {
   "cell_type": "code",
   "execution_count": 20,
   "id": "17d23112",
   "metadata": {},
   "outputs": [],
   "source": [
    "crowd_train = pd.json_normalize(twit_crowd_train['data'])"
   ]
  },
  {
   "cell_type": "code",
   "execution_count": 85,
   "id": "6bc4d1b1",
   "metadata": {},
   "outputs": [],
   "source": [
    "def count_words(data, label, title_str):\n",
    "    wc=Counter(\" \".join(data[data['label']==label][\"text_clean\"]).split())\n",
    "\n",
    "    words = []\n",
    "    freq = []\n",
    "\n",
    "    for word, count in wc.most_common(20):\n",
    "        if word not in stopwords.words('english'):\n",
    "            words.append(word)\n",
    "            freq.append(count)\n",
    "    sns.barplot(x=freq, y=words)\n",
    "    plt.title('Most Frequently Occuring Words- ' + title_str)\n",
    "    plt.show()"
   ]
  },
  {
   "cell_type": "code",
   "execution_count": 27,
   "id": "a45cd216",
   "metadata": {},
   "outputs": [
    {
     "data": {
      "image/png": "[encoded data removed]",
      "text/plain": [
       "<Figure size 640x480 with 1 Axes>"
      ]
     },
     "metadata": {},
     "output_type": "display_data"
    }
   ],
   "source": [
    "count_words(crowd_train, 1, 'Toxic')"
   ]
  },
  {
   "cell_type": "code",
   "execution_count": 31,
   "id": "f0706225",
   "metadata": {},
   "outputs": [
    {
     "ename": "KeyboardInterrupt",
     "evalue": "",
     "output_type": "error",
     "traceback": [
      "\u001b[0;31m---------------------------------------------------------------------------\u001b[0m",
      "\u001b[0;31mKeyboardInterrupt\u001b[0m                         Traceback (most recent call last)",
      "Cell \u001b[0;32mIn[31], line 3\u001b[0m\n\u001b[1;32m      1\u001b[0m crowd_train\n\u001b[0;32m----> 3\u001b[0m crowd_train[\u001b[38;5;124m'\u001b[39m\u001b[38;5;124mtext_clean\u001b[39m\u001b[38;5;124m'\u001b[39m] \u001b[38;5;241m=\u001b[39m \u001b[43mcrowd_train\u001b[49m\u001b[43m[\u001b[49m\u001b[38;5;124;43m'\u001b[39;49m\u001b[38;5;124;43mtext\u001b[39;49m\u001b[38;5;124;43m'\u001b[39;49m\u001b[43m]\u001b[49m\u001b[38;5;241;43m.\u001b[39;49m\u001b[43mapply\u001b[49m\u001b[43m(\u001b[49m\u001b[43mclean\u001b[49m\u001b[43m)\u001b[49m\n",
      "File \u001b[0;32m~/.conda/envs/t4j/lib/python3.8/site-packages/pandas/core/series.py:4630\u001b[0m, in \u001b[0;36mSeries.apply\u001b[0;34m(self, func, convert_dtype, args, **kwargs)\u001b[0m\n\u001b[1;32m   4520\u001b[0m \u001b[38;5;28;01mdef\u001b[39;00m \u001b[38;5;21mapply\u001b[39m(\n\u001b[1;32m   4521\u001b[0m     \u001b[38;5;28mself\u001b[39m,\n\u001b[1;32m   4522\u001b[0m     func: AggFuncType,\n\u001b[0;32m   (...)\u001b[0m\n\u001b[1;32m   4525\u001b[0m     \u001b[38;5;241m*\u001b[39m\u001b[38;5;241m*\u001b[39mkwargs,\n\u001b[1;32m   4526\u001b[0m ) \u001b[38;5;241m-\u001b[39m\u001b[38;5;241m>\u001b[39m DataFrame \u001b[38;5;241m|\u001b[39m Series:\n\u001b[1;32m   4527\u001b[0m \u001b[38;5;250m    \u001b[39m\u001b[38;5;124;03m\"\"\"\u001b[39;00m\n\u001b[1;32m   4528\u001b[0m \u001b[38;5;124;03m    Invoke function on values of Series.\u001b[39;00m\n\u001b[1;32m   4529\u001b[0m \n\u001b[0;32m   (...)\u001b[0m\n\u001b[1;32m   4628\u001b[0m \u001b[38;5;124;03m    dtype: float64\u001b[39;00m\n\u001b[1;32m   4629\u001b[0m \u001b[38;5;124;03m    \"\"\"\u001b[39;00m\n\u001b[0;32m-> 4630\u001b[0m     \u001b[38;5;28;01mreturn\u001b[39;00m \u001b[43mSeriesApply\u001b[49m\u001b[43m(\u001b[49m\u001b[38;5;28;43mself\u001b[39;49m\u001b[43m,\u001b[49m\u001b[43m \u001b[49m\u001b[43mfunc\u001b[49m\u001b[43m,\u001b[49m\u001b[43m \u001b[49m\u001b[43mconvert_dtype\u001b[49m\u001b[43m,\u001b[49m\u001b[43m \u001b[49m\u001b[43margs\u001b[49m\u001b[43m,\u001b[49m\u001b[43m \u001b[49m\u001b[43mkwargs\u001b[49m\u001b[43m)\u001b[49m\u001b[38;5;241;43m.\u001b[39;49m\u001b[43mapply\u001b[49m\u001b[43m(\u001b[49m\u001b[43m)\u001b[49m\n",
      "File \u001b[0;32m~/.conda/envs/t4j/lib/python3.8/site-packages/pandas/core/apply.py:1025\u001b[0m, in \u001b[0;36mSeriesApply.apply\u001b[0;34m(self)\u001b[0m\n\u001b[1;32m   1022\u001b[0m     \u001b[38;5;28;01mreturn\u001b[39;00m \u001b[38;5;28mself\u001b[39m\u001b[38;5;241m.\u001b[39mapply_str()\n\u001b[1;32m   1024\u001b[0m \u001b[38;5;66;03m# self.f is Callable\u001b[39;00m\n\u001b[0;32m-> 1025\u001b[0m \u001b[38;5;28;01mreturn\u001b[39;00m \u001b[38;5;28;43mself\u001b[39;49m\u001b[38;5;241;43m.\u001b[39;49m\u001b[43mapply_standard\u001b[49m\u001b[43m(\u001b[49m\u001b[43m)\u001b[49m\n",
      "File \u001b[0;32m~/.conda/envs/t4j/lib/python3.8/site-packages/pandas/core/apply.py:1076\u001b[0m, in \u001b[0;36mSeriesApply.apply_standard\u001b[0;34m(self)\u001b[0m\n\u001b[1;32m   1074\u001b[0m     \u001b[38;5;28;01melse\u001b[39;00m:\n\u001b[1;32m   1075\u001b[0m         values \u001b[38;5;241m=\u001b[39m obj\u001b[38;5;241m.\u001b[39mastype(\u001b[38;5;28mobject\u001b[39m)\u001b[38;5;241m.\u001b[39m_values\n\u001b[0;32m-> 1076\u001b[0m         mapped \u001b[38;5;241m=\u001b[39m \u001b[43mlib\u001b[49m\u001b[38;5;241;43m.\u001b[39;49m\u001b[43mmap_infer\u001b[49m\u001b[43m(\u001b[49m\n\u001b[1;32m   1077\u001b[0m \u001b[43m            \u001b[49m\u001b[43mvalues\u001b[49m\u001b[43m,\u001b[49m\n\u001b[1;32m   1078\u001b[0m \u001b[43m            \u001b[49m\u001b[43mf\u001b[49m\u001b[43m,\u001b[49m\n\u001b[1;32m   1079\u001b[0m \u001b[43m            \u001b[49m\u001b[43mconvert\u001b[49m\u001b[38;5;241;43m=\u001b[39;49m\u001b[38;5;28;43mself\u001b[39;49m\u001b[38;5;241;43m.\u001b[39;49m\u001b[43mconvert_dtype\u001b[49m\u001b[43m,\u001b[49m\n\u001b[1;32m   1080\u001b[0m \u001b[43m        \u001b[49m\u001b[43m)\u001b[49m\n\u001b[1;32m   1082\u001b[0m \u001b[38;5;28;01mif\u001b[39;00m \u001b[38;5;28mlen\u001b[39m(mapped) \u001b[38;5;129;01mand\u001b[39;00m \u001b[38;5;28misinstance\u001b[39m(mapped[\u001b[38;5;241m0\u001b[39m], ABCSeries):\n\u001b[1;32m   1083\u001b[0m     \u001b[38;5;66;03m# GH#43986 Need to do list(mapped) in order to get treated as nested\u001b[39;00m\n\u001b[1;32m   1084\u001b[0m     \u001b[38;5;66;03m#  See also GH#25959 regarding EA support\u001b[39;00m\n\u001b[1;32m   1085\u001b[0m     \u001b[38;5;28;01mreturn\u001b[39;00m obj\u001b[38;5;241m.\u001b[39m_constructor_expanddim(\u001b[38;5;28mlist\u001b[39m(mapped), index\u001b[38;5;241m=\u001b[39mobj\u001b[38;5;241m.\u001b[39mindex)\n",
      "File \u001b[0;32m~/.conda/envs/t4j/lib/python3.8/site-packages/pandas/_libs/lib.pyx:2834\u001b[0m, in \u001b[0;36mpandas._libs.lib.map_infer\u001b[0;34m()\u001b[0m\n",
      "Cell \u001b[0;32mIn[4], line 5\u001b[0m, in \u001b[0;36mclean\u001b[0;34m(review)\u001b[0m\n\u001b[1;32m      3\u001b[0m review \u001b[38;5;241m=\u001b[39m review\u001b[38;5;241m.\u001b[39mlower()\n\u001b[1;32m      4\u001b[0m review \u001b[38;5;241m=\u001b[39m re\u001b[38;5;241m.\u001b[39msub(\u001b[38;5;124m'\u001b[39m\u001b[38;5;124m[^a-z A-Z 0-9-]+\u001b[39m\u001b[38;5;124m'\u001b[39m, \u001b[38;5;124m'\u001b[39m\u001b[38;5;124m'\u001b[39m, review)\n\u001b[0;32m----> 5\u001b[0m review \u001b[38;5;241m=\u001b[39m \u001b[38;5;124m\"\u001b[39m\u001b[38;5;124m \u001b[39m\u001b[38;5;124m\"\u001b[39m\u001b[38;5;241m.\u001b[39mjoin([word \u001b[38;5;28;01mfor\u001b[39;00m word \u001b[38;5;129;01min\u001b[39;00m review\u001b[38;5;241m.\u001b[39msplit() \u001b[38;5;28;01mif\u001b[39;00m word \u001b[38;5;129;01mnot\u001b[39;00m \u001b[38;5;129;01min\u001b[39;00m stopwords\u001b[38;5;241m.\u001b[39mwords(\u001b[38;5;124m'\u001b[39m\u001b[38;5;124menglish\u001b[39m\u001b[38;5;124m'\u001b[39m)])\n\u001b[1;32m      7\u001b[0m \u001b[38;5;28;01mreturn\u001b[39;00m review\n",
      "Cell \u001b[0;32mIn[4], line 5\u001b[0m, in \u001b[0;36m<listcomp>\u001b[0;34m(.0)\u001b[0m\n\u001b[1;32m      3\u001b[0m review \u001b[38;5;241m=\u001b[39m review\u001b[38;5;241m.\u001b[39mlower()\n\u001b[1;32m      4\u001b[0m review \u001b[38;5;241m=\u001b[39m re\u001b[38;5;241m.\u001b[39msub(\u001b[38;5;124m'\u001b[39m\u001b[38;5;124m[^a-z A-Z 0-9-]+\u001b[39m\u001b[38;5;124m'\u001b[39m, \u001b[38;5;124m'\u001b[39m\u001b[38;5;124m'\u001b[39m, review)\n\u001b[0;32m----> 5\u001b[0m review \u001b[38;5;241m=\u001b[39m \u001b[38;5;124m\"\u001b[39m\u001b[38;5;124m \u001b[39m\u001b[38;5;124m\"\u001b[39m\u001b[38;5;241m.\u001b[39mjoin([word \u001b[38;5;28;01mfor\u001b[39;00m word \u001b[38;5;129;01min\u001b[39;00m review\u001b[38;5;241m.\u001b[39msplit() \u001b[38;5;28;01mif\u001b[39;00m word \u001b[38;5;129;01mnot\u001b[39;00m \u001b[38;5;129;01min\u001b[39;00m \u001b[43mstopwords\u001b[49m\u001b[38;5;241;43m.\u001b[39;49m\u001b[43mwords\u001b[49m\u001b[43m(\u001b[49m\u001b[38;5;124;43m'\u001b[39;49m\u001b[38;5;124;43menglish\u001b[39;49m\u001b[38;5;124;43m'\u001b[39;49m\u001b[43m)\u001b[49m])\n\u001b[1;32m      7\u001b[0m \u001b[38;5;28;01mreturn\u001b[39;00m review\n",
      "File \u001b[0;32m~/.conda/envs/t4j/lib/python3.8/site-packages/nltk/corpus/reader/wordlist.py:19\u001b[0m, in \u001b[0;36mWordListCorpusReader.words\u001b[0;34m(self, fileids, ignore_lines_startswith)\u001b[0m\n\u001b[1;32m     18\u001b[0m \u001b[38;5;28;01mdef\u001b[39;00m \u001b[38;5;21mwords\u001b[39m(\u001b[38;5;28mself\u001b[39m, fileids\u001b[38;5;241m=\u001b[39m\u001b[38;5;28;01mNone\u001b[39;00m, ignore_lines_startswith\u001b[38;5;241m=\u001b[39m\u001b[38;5;124m\"\u001b[39m\u001b[38;5;130;01m\\n\u001b[39;00m\u001b[38;5;124m\"\u001b[39m):\n\u001b[0;32m---> 19\u001b[0m     \u001b[38;5;28;01mreturn\u001b[39;00m [\n\u001b[1;32m     20\u001b[0m         line\n\u001b[1;32m     21\u001b[0m         \u001b[38;5;28;01mfor\u001b[39;00m line \u001b[38;5;129;01min\u001b[39;00m line_tokenize(\u001b[38;5;28mself\u001b[39m\u001b[38;5;241m.\u001b[39mraw(fileids))\n\u001b[1;32m     22\u001b[0m         \u001b[38;5;28;01mif\u001b[39;00m \u001b[38;5;129;01mnot\u001b[39;00m line\u001b[38;5;241m.\u001b[39mstartswith(ignore_lines_startswith)\n\u001b[1;32m     23\u001b[0m     ]\n",
      "File \u001b[0;32m~/.conda/envs/t4j/lib/python3.8/site-packages/nltk/corpus/reader/wordlist.py:22\u001b[0m, in \u001b[0;36m<listcomp>\u001b[0;34m(.0)\u001b[0m\n\u001b[1;32m     18\u001b[0m \u001b[38;5;28;01mdef\u001b[39;00m \u001b[38;5;21mwords\u001b[39m(\u001b[38;5;28mself\u001b[39m, fileids\u001b[38;5;241m=\u001b[39m\u001b[38;5;28;01mNone\u001b[39;00m, ignore_lines_startswith\u001b[38;5;241m=\u001b[39m\u001b[38;5;124m\"\u001b[39m\u001b[38;5;130;01m\\n\u001b[39;00m\u001b[38;5;124m\"\u001b[39m):\n\u001b[1;32m     19\u001b[0m     \u001b[38;5;28;01mreturn\u001b[39;00m [\n\u001b[1;32m     20\u001b[0m         line\n\u001b[1;32m     21\u001b[0m         \u001b[38;5;28;01mfor\u001b[39;00m line \u001b[38;5;129;01min\u001b[39;00m line_tokenize(\u001b[38;5;28mself\u001b[39m\u001b[38;5;241m.\u001b[39mraw(fileids))\n\u001b[0;32m---> 22\u001b[0m         \u001b[38;5;28;01mif\u001b[39;00m \u001b[38;5;129;01mnot\u001b[39;00m \u001b[43mline\u001b[49m\u001b[38;5;241;43m.\u001b[39;49m\u001b[43mstartswith\u001b[49m(ignore_lines_startswith)\n\u001b[1;32m     23\u001b[0m     ]\n",
      "\u001b[0;31mKeyboardInterrupt\u001b[0m: "
     ]
    }
   ],
   "source": [
    "# crowd_train\n",
    " \n",
    "crowd_train['text_clean'] = crowd_train['text'].apply(clean)"
   ]
  },
  {
   "cell_type": "code",
   "execution_count": 22,
   "id": "2b000954",
   "metadata": {},
   "outputs": [
    {
     "data": {
      "text/plain": [
       "label\n",
       "0    61092\n",
       "1    28903\n",
       "Name: count, dtype: int64"
      ]
     },
     "execution_count": 22,
     "metadata": {},
     "output_type": "execute_result"
    }
   ],
   "source": [
    "crowd_train['label'].value_counts()"
   ]
  },
  {
   "cell_type": "code",
   "execution_count": 33,
   "id": "ff3f875b",
   "metadata": {},
   "outputs": [
    {
     "data": {
      "text/plain": [
       "0.6788377132062893"
      ]
     },
     "execution_count": 33,
     "metadata": {},
     "output_type": "execute_result"
    }
   ],
   "source": [
    "61092/89995"
   ]
  },
  {
   "cell_type": "code",
   "execution_count": 81,
   "id": "52cc64d9",
   "metadata": {},
   "outputs": [],
   "source": [
    "def trigram_counter(data, label, str_label):\n",
    "    cv1 = CountVectorizer(ngram_range=(3,3))\n",
    "    trigrams = cv1.fit_transform(data[data['label']==label][\"text\"])\n",
    "    count_values = trigrams.toarray().sum(axis=0)\n",
    "    ngram_freq = pd.DataFrame(sorted([(count_values[i], k) for k, i in cv1.vocabulary_.items()], reverse = True))\n",
    "    ngram_freq.columns = [\"frequency\", \"ngram\"]\n",
    "\n",
    "    sns.barplot(x=ngram_freq['frequency'][:10], y=ngram_freq['ngram'][:10])\n",
    "    plt.title('Top 10 Most Frequently Occuring Trigrams- ' + str_label)\n",
    "    plt.show()"
   ]
  },
  {
   "cell_type": "code",
   "execution_count": 40,
   "id": "d021fa03",
   "metadata": {},
   "outputs": [
    {
     "data": {
      "text/html": [
       "<div>\n",
       "<style scoped>\n",
       "    .dataframe tbody tr th:only-of-type {\n",
       "        vertical-align: middle;\n",
       "    }\n",
       "\n",
       "    .dataframe tbody tr th {\n",
       "        vertical-align: top;\n",
       "    }\n",
       "\n",
       "    .dataframe thead th {\n",
       "        text-align: right;\n",
       "    }\n",
       "</style>\n",
       "<table border=\"1\" class=\"dataframe\">\n",
       "  <thead>\n",
       "    <tr style=\"text-align: right;\">\n",
       "      <th></th>\n",
       "      <th>text</th>\n",
       "      <th>label</th>\n",
       "      <th>text_clean</th>\n",
       "    </tr>\n",
       "  </thead>\n",
       "  <tbody>\n",
       "    <tr>\n",
       "      <th>0</th>\n",
       "      <td>#HarryOnCapital is love. #HarryOnCapital is li...</td>\n",
       "      <td>0</td>\n",
       "      <td>harryoncapital love harryoncapital life first ...</td>\n",
       "    </tr>\n",
       "    <tr>\n",
       "      <th>1</th>\n",
       "      <td>@d_a_sausages #lighter nights, blossom and sno...</td>\n",
       "      <td>0</td>\n",
       "      <td>dasausages lighter nights blossom snow drops b...</td>\n",
       "    </tr>\n",
       "    <tr>\n",
       "      <th>2</th>\n",
       "      <td>Nasty stockings lesbians go down https://t.co/...</td>\n",
       "      <td>1</td>\n",
       "      <td>nasty stockings lesbians go httpstcozk5dchxjcs</td>\n",
       "    </tr>\n",
       "    <tr>\n",
       "      <th>3</th>\n",
       "      <td>Panera took off the BBQ chicken salad off thei...</td>\n",
       "      <td>0</td>\n",
       "      <td>panera took bbq chicken salad menu guess maybe...</td>\n",
       "    </tr>\n",
       "    <tr>\n",
       "      <th>4</th>\n",
       "      <td>Chelsea fans will be happy about Thibaut Court...</td>\n",
       "      <td>0</td>\n",
       "      <td>chelsea fans happy thibaut courtois instagram ...</td>\n",
       "    </tr>\n",
       "    <tr>\n",
       "      <th>...</th>\n",
       "      <td>...</td>\n",
       "      <td>...</td>\n",
       "      <td>...</td>\n",
       "    </tr>\n",
       "    <tr>\n",
       "      <th>89989</th>\n",
       "      <td>@dantdm More Minecraft: Pocket Edition!!!!!! W...</td>\n",
       "      <td>0</td>\n",
       "      <td>dantdm minecraft pocket edition 105 maps comma...</td>\n",
       "    </tr>\n",
       "    <tr>\n",
       "      <th>89990</th>\n",
       "      <td>If @TabTeamRacing Blue beat @EUSC_sailing Blac...</td>\n",
       "      <td>0</td>\n",
       "      <td>tabteamracing blue beat euscsailing black fina...</td>\n",
       "    </tr>\n",
       "    <tr>\n",
       "      <th>89991</th>\n",
       "      <td>Ion like fucking w ppl FRFR niggas do n say an...</td>\n",
       "      <td>1</td>\n",
       "      <td>ion like fucking w ppl frfr niggas n say anyth...</td>\n",
       "    </tr>\n",
       "    <tr>\n",
       "      <th>89993</th>\n",
       "      <td>@BitterOldPunk @bellebelle Don't Worry,Find Yo...</td>\n",
       "      <td>0</td>\n",
       "      <td>bitteroldpunk bellebelle dont worryfind money ...</td>\n",
       "    </tr>\n",
       "    <tr>\n",
       "      <th>89994</th>\n",
       "      <td>Ngunnawal suburb record smashed as buyers spen...</td>\n",
       "      <td>0</td>\n",
       "      <td>ngunnawal suburb record smashed buyers spend g...</td>\n",
       "    </tr>\n",
       "  </tbody>\n",
       "</table>\n",
       "<p>83247 rows × 3 columns</p>\n",
       "</div>"
      ],
      "text/plain": [
       "                                                    text  label  \\\n",
       "0      #HarryOnCapital is love. #HarryOnCapital is li...      0   \n",
       "1      @d_a_sausages #lighter nights, blossom and sno...      0   \n",
       "2      Nasty stockings lesbians go down https://t.co/...      1   \n",
       "3      Panera took off the BBQ chicken salad off thei...      0   \n",
       "4      Chelsea fans will be happy about Thibaut Court...      0   \n",
       "...                                                  ...    ...   \n",
       "89989  @dantdm More Minecraft: Pocket Edition!!!!!! W...      0   \n",
       "89990  If @TabTeamRacing Blue beat @EUSC_sailing Blac...      0   \n",
       "89991  Ion like fucking w ppl FRFR niggas do n say an...      1   \n",
       "89993  @BitterOldPunk @bellebelle Don't Worry,Find Yo...      0   \n",
       "89994  Ngunnawal suburb record smashed as buyers spen...      0   \n",
       "\n",
       "                                              text_clean  \n",
       "0      harryoncapital love harryoncapital life first ...  \n",
       "1      dasausages lighter nights blossom snow drops b...  \n",
       "2         nasty stockings lesbians go httpstcozk5dchxjcs  \n",
       "3      panera took bbq chicken salad menu guess maybe...  \n",
       "4      chelsea fans happy thibaut courtois instagram ...  \n",
       "...                                                  ...  \n",
       "89989  dantdm minecraft pocket edition 105 maps comma...  \n",
       "89990  tabteamracing blue beat euscsailing black fina...  \n",
       "89991  ion like fucking w ppl frfr niggas n say anyth...  \n",
       "89993  bitteroldpunk bellebelle dont worryfind money ...  \n",
       "89994  ngunnawal suburb record smashed buyers spend g...  \n",
       "\n",
       "[83247 rows x 3 columns]"
      ]
     },
     "execution_count": 40,
     "metadata": {},
     "output_type": "execute_result"
    }
   ],
   "source": [
    "crowd_train.drop_duplicates()"
   ]
  },
  {
   "cell_type": "code",
   "execution_count": 24,
   "id": "0acff265",
   "metadata": {},
   "outputs": [],
   "source": [
    "crowd_train_clean = crowd_train.drop_duplicates()"
   ]
  },
  {
   "cell_type": "code",
   "execution_count": 32,
   "id": "317275cf",
   "metadata": {},
   "outputs": [
    {
     "name": "stderr",
     "output_type": "stream",
     "text": [
      "/tmp/ipykernel_609047/1343127899.py:1: SettingWithCopyWarning: \n",
      "A value is trying to be set on a copy of a slice from a DataFrame.\n",
      "Try using .loc[row_indexer,col_indexer] = value instead\n",
      "\n",
      "See the caveats in the documentation: https://pandas.pydata.org/pandas-docs/stable/user_guide/indexing.html#returning-a-view-versus-a-copy\n",
      "  crowd_train_clean['word_count'] = crowd_train_clean['text'].apply(lambda x: len(str(x).split()))\n"
     ]
    }
   ],
   "source": [
    "crowd_train_clean['word_count'] = crowd_train_clean['text'].apply(lambda x: len(str(x).split()))"
   ]
  },
  {
   "cell_type": "code",
   "execution_count": 26,
   "id": "d8322abb",
   "metadata": {},
   "outputs": [
    {
     "data": {
      "text/html": [
       "<div>\n",
       "<style scoped>\n",
       "    .dataframe tbody tr th:only-of-type {\n",
       "        vertical-align: middle;\n",
       "    }\n",
       "\n",
       "    .dataframe tbody tr th {\n",
       "        vertical-align: top;\n",
       "    }\n",
       "\n",
       "    .dataframe thead th {\n",
       "        text-align: right;\n",
       "    }\n",
       "</style>\n",
       "<table border=\"1\" class=\"dataframe\">\n",
       "  <thead>\n",
       "    <tr style=\"text-align: right;\">\n",
       "      <th></th>\n",
       "      <th>text</th>\n",
       "      <th>label</th>\n",
       "      <th>word_count</th>\n",
       "    </tr>\n",
       "  </thead>\n",
       "  <tbody>\n",
       "    <tr>\n",
       "      <th>0</th>\n",
       "      <td>#HarryOnCapital is love. #HarryOnCapital is li...</td>\n",
       "      <td>0</td>\n",
       "      <td>14</td>\n",
       "    </tr>\n",
       "    <tr>\n",
       "      <th>1</th>\n",
       "      <td>@d_a_sausages #lighter nights, blossom and sno...</td>\n",
       "      <td>0</td>\n",
       "      <td>15</td>\n",
       "    </tr>\n",
       "    <tr>\n",
       "      <th>3</th>\n",
       "      <td>Panera took off the BBQ chicken salad off thei...</td>\n",
       "      <td>0</td>\n",
       "      <td>20</td>\n",
       "    </tr>\n",
       "    <tr>\n",
       "      <th>4</th>\n",
       "      <td>Chelsea fans will be happy about Thibaut Court...</td>\n",
       "      <td>0</td>\n",
       "      <td>15</td>\n",
       "    </tr>\n",
       "    <tr>\n",
       "      <th>5</th>\n",
       "      <td>Rainy Sunday afternoon working on laptop while...</td>\n",
       "      <td>0</td>\n",
       "      <td>22</td>\n",
       "    </tr>\n",
       "    <tr>\n",
       "      <th>...</th>\n",
       "      <td>...</td>\n",
       "      <td>...</td>\n",
       "      <td>...</td>\n",
       "    </tr>\n",
       "    <tr>\n",
       "      <th>89986</th>\n",
       "      <td>Photos (4) : we were totally wet after that at...</td>\n",
       "      <td>0</td>\n",
       "      <td>19</td>\n",
       "    </tr>\n",
       "    <tr>\n",
       "      <th>89989</th>\n",
       "      <td>@dantdm More Minecraft: Pocket Edition!!!!!! W...</td>\n",
       "      <td>0</td>\n",
       "      <td>17</td>\n",
       "    </tr>\n",
       "    <tr>\n",
       "      <th>89990</th>\n",
       "      <td>If @TabTeamRacing Blue beat @EUSC_sailing Blac...</td>\n",
       "      <td>0</td>\n",
       "      <td>20</td>\n",
       "    </tr>\n",
       "    <tr>\n",
       "      <th>89993</th>\n",
       "      <td>@BitterOldPunk @bellebelle Don't Worry,Find Yo...</td>\n",
       "      <td>0</td>\n",
       "      <td>16</td>\n",
       "    </tr>\n",
       "    <tr>\n",
       "      <th>89994</th>\n",
       "      <td>Ngunnawal suburb record smashed as buyers spen...</td>\n",
       "      <td>0</td>\n",
       "      <td>14</td>\n",
       "    </tr>\n",
       "  </tbody>\n",
       "</table>\n",
       "<p>60615 rows × 3 columns</p>\n",
       "</div>"
      ],
      "text/plain": [
       "                                                    text  label  word_count\n",
       "0      #HarryOnCapital is love. #HarryOnCapital is li...      0          14\n",
       "1      @d_a_sausages #lighter nights, blossom and sno...      0          15\n",
       "3      Panera took off the BBQ chicken salad off thei...      0          20\n",
       "4      Chelsea fans will be happy about Thibaut Court...      0          15\n",
       "5      Rainy Sunday afternoon working on laptop while...      0          22\n",
       "...                                                  ...    ...         ...\n",
       "89986  Photos (4) : we were totally wet after that at...      0          19\n",
       "89989  @dantdm More Minecraft: Pocket Edition!!!!!! W...      0          17\n",
       "89990  If @TabTeamRacing Blue beat @EUSC_sailing Blac...      0          20\n",
       "89993  @BitterOldPunk @bellebelle Don't Worry,Find Yo...      0          16\n",
       "89994  Ngunnawal suburb record smashed as buyers spen...      0          14\n",
       "\n",
       "[60615 rows x 3 columns]"
      ]
     },
     "execution_count": 26,
     "metadata": {},
     "output_type": "execute_result"
    }
   ],
   "source": [
    "crowd_train_clean[crowd_train_clean['label']==0]"
   ]
  },
  {
   "cell_type": "code",
   "execution_count": 38,
   "id": "dae2b5b3",
   "metadata": {},
   "outputs": [],
   "source": [
    "crowd_train_02_sample =crowd_train_clean[crowd_train_clean['label']==0].sample(frac=0.167, replace=True, random_state=2)"
   ]
  },
  {
   "cell_type": "code",
   "execution_count": 39,
   "id": "29af1a85",
   "metadata": {},
   "outputs": [],
   "source": [
    "crowd_train_02_sample['text_clean'] = crowd_train_02_sample['text'].apply(clean)"
   ]
  },
  {
   "cell_type": "code",
   "execution_count": 27,
   "id": "31fa8533",
   "metadata": {},
   "outputs": [
    {
     "data": {
      "text/plain": [
       "0.16666666666666666"
      ]
     },
     "execution_count": 27,
     "metadata": {},
     "output_type": "execute_result"
    }
   ],
   "source": [
    "1/6"
   ]
  },
  {
   "cell_type": "code",
   "execution_count": 37,
   "id": "92fefcf6",
   "metadata": {},
   "outputs": [
    {
     "data": {
      "image/png": "[encoded data removed]",
      "text/plain": [
       "<Figure size 640x480 with 1 Axes>"
      ]
     },
     "metadata": {},
     "output_type": "display_data"
    }
   ],
   "source": [
    "trigram_counter(crowd_train_0_sample, 0, 'Non-HAP Sample')"
   ]
  },
  {
   "cell_type": "code",
   "execution_count": 53,
   "id": "cced590e",
   "metadata": {},
   "outputs": [
    {
     "data": {
      "image/png": "[encoded data removed]",
      "text/plain": [
       "<Figure size 640x480 with 1 Axes>"
      ]
     },
     "metadata": {},
     "output_type": "display_data"
    }
   ],
   "source": [
    "ct_5_sample =crowd_train_clean[crowd_train_clean['label']==0].sample(frac=0.167, replace=True, random_state=5)\n",
    "ct_5_sample['text_clean'] = ct_5_sample['text'].apply(clean)\n",
    "trigram_counter(ct_5_sample, 0, 'Non-HAP Sample- random state 5')"
   ]
  },
  {
   "cell_type": "code",
   "execution_count": 44,
   "id": "95f39dd9",
   "metadata": {},
   "outputs": [
    {
     "data": {
      "text/html": [
       "<div>\n",
       "<style scoped>\n",
       "    .dataframe tbody tr th:only-of-type {\n",
       "        vertical-align: middle;\n",
       "    }\n",
       "\n",
       "    .dataframe tbody tr th {\n",
       "        vertical-align: top;\n",
       "    }\n",
       "\n",
       "    .dataframe thead th {\n",
       "        text-align: right;\n",
       "    }\n",
       "</style>\n",
       "<table border=\"1\" class=\"dataframe\">\n",
       "  <thead>\n",
       "    <tr style=\"text-align: right;\">\n",
       "      <th></th>\n",
       "      <th>text</th>\n",
       "      <th>label</th>\n",
       "      <th>word_count</th>\n",
       "      <th>text_clean</th>\n",
       "    </tr>\n",
       "  </thead>\n",
       "  <tbody>\n",
       "    <tr>\n",
       "      <th>32987</th>\n",
       "      <td>I added a video to a @YouTube playlist https:/...</td>\n",
       "      <td>0</td>\n",
       "      <td>20</td>\n",
       "      <td>added video youtube playlist httpstcojyvcc5y5q...</td>\n",
       "    </tr>\n",
       "    <tr>\n",
       "      <th>32706</th>\n",
       "      <td>RT @KARDupdates: [#YOUTUBE] Watch \"K.A.R.D - L...</td>\n",
       "      <td>0</td>\n",
       "      <td>14</td>\n",
       "      <td>rt kardupdates youtube watch kard - latin danc...</td>\n",
       "    </tr>\n",
       "    <tr>\n",
       "      <th>11635</th>\n",
       "      <td>I liked a @YouTube video from @bitsandclips ht...</td>\n",
       "      <td>0</td>\n",
       "      <td>18</td>\n",
       "      <td>liked youtube video bitsandclips httpstcoxg6qr...</td>\n",
       "    </tr>\n",
       "    <tr>\n",
       "      <th>77214</th>\n",
       "      <td>I liked a @YouTube video from @h3h3productions...</td>\n",
       "      <td>0</td>\n",
       "      <td>14</td>\n",
       "      <td>liked youtube video h3h3productions httpstcooc...</td>\n",
       "    </tr>\n",
       "    <tr>\n",
       "      <th>61338</th>\n",
       "      <td>I added a video to a @YouTube playlist https:/...</td>\n",
       "      <td>0</td>\n",
       "      <td>22</td>\n",
       "      <td>added video youtube playlist httpstcopmsekzvde...</td>\n",
       "    </tr>\n",
       "    <tr>\n",
       "      <th>...</th>\n",
       "      <td>...</td>\n",
       "      <td>...</td>\n",
       "      <td>...</td>\n",
       "      <td>...</td>\n",
       "    </tr>\n",
       "    <tr>\n",
       "      <th>70568</th>\n",
       "      <td>I liked a @YouTube video https://t.co/ImylQVug...</td>\n",
       "      <td>0</td>\n",
       "      <td>18</td>\n",
       "      <td>liked youtube video httpstcoimylqvugat michael...</td>\n",
       "    </tr>\n",
       "    <tr>\n",
       "      <th>84895</th>\n",
       "      <td>Work At Home Jobs - How To Make Money Online W...</td>\n",
       "      <td>0</td>\n",
       "      <td>20</td>\n",
       "      <td>work home jobs - make money online google way ...</td>\n",
       "    </tr>\n",
       "    <tr>\n",
       "      <th>583</th>\n",
       "      <td>Learn how to create a living memorial with #Ro...</td>\n",
       "      <td>0</td>\n",
       "      <td>14</td>\n",
       "      <td>learn create living memorial roses httpstcofcx...</td>\n",
       "    </tr>\n",
       "    <tr>\n",
       "      <th>81732</th>\n",
       "      <td>And if comment ur favorite YouTuber and I will...</td>\n",
       "      <td>0</td>\n",
       "      <td>12</td>\n",
       "      <td>comment ur favorite youtuber also reply</td>\n",
       "    </tr>\n",
       "    <tr>\n",
       "      <th>33906</th>\n",
       "      <td>I liked a @YouTube video from @justjailyn http...</td>\n",
       "      <td>0</td>\n",
       "      <td>14</td>\n",
       "      <td>liked youtube video justjailyn httpstcobg0pxja...</td>\n",
       "    </tr>\n",
       "  </tbody>\n",
       "</table>\n",
       "<p>196 rows × 4 columns</p>\n",
       "</div>"
      ],
      "text/plain": [
       "                                                    text  label  word_count  \\\n",
       "32987  I added a video to a @YouTube playlist https:/...      0          20   \n",
       "32706  RT @KARDupdates: [#YOUTUBE] Watch \"K.A.R.D - L...      0          14   \n",
       "11635  I liked a @YouTube video from @bitsandclips ht...      0          18   \n",
       "77214  I liked a @YouTube video from @h3h3productions...      0          14   \n",
       "61338  I added a video to a @YouTube playlist https:/...      0          22   \n",
       "...                                                  ...    ...         ...   \n",
       "70568  I liked a @YouTube video https://t.co/ImylQVug...      0          18   \n",
       "84895  Work At Home Jobs - How To Make Money Online W...      0          20   \n",
       "583    Learn how to create a living memorial with #Ro...      0          14   \n",
       "81732  And if comment ur favorite YouTuber and I will...      0          12   \n",
       "33906  I liked a @YouTube video from @justjailyn http...      0          14   \n",
       "\n",
       "                                              text_clean  \n",
       "32987  added video youtube playlist httpstcojyvcc5y5q...  \n",
       "32706  rt kardupdates youtube watch kard - latin danc...  \n",
       "11635  liked youtube video bitsandclips httpstcoxg6qr...  \n",
       "77214  liked youtube video h3h3productions httpstcooc...  \n",
       "61338  added video youtube playlist httpstcopmsekzvde...  \n",
       "...                                                  ...  \n",
       "70568  liked youtube video httpstcoimylqvugat michael...  \n",
       "84895  work home jobs - make money online google way ...  \n",
       "583    learn create living memorial roses httpstcofcx...  \n",
       "81732            comment ur favorite youtuber also reply  \n",
       "33906  liked youtube video justjailyn httpstcobg0pxja...  \n",
       "\n",
       "[196 rows x 4 columns]"
      ]
     },
     "execution_count": 44,
     "metadata": {},
     "output_type": "execute_result"
    }
   ],
   "source": [
    "crowd_train_02_sample[crowd_train_02_sample['text_clean'].str.contains('youtube')]"
   ]
  },
  {
   "cell_type": "code",
   "execution_count": 51,
   "id": "0c0880fe",
   "metadata": {},
   "outputs": [
    {
     "data": {
      "text/plain": [
       "text     64\n",
       "label    64\n",
       "dtype: int64"
      ]
     },
     "execution_count": 51,
     "metadata": {},
     "output_type": "execute_result"
    }
   ],
   "source": [
    "crowd_train[crowd_train['text'].str.contains('youtube')].count()"
   ]
  },
  {
   "cell_type": "markdown",
   "id": "f94d232c",
   "metadata": {},
   "source": [
    "# Hatecheck Dataset"
   ]
  },
  {
   "cell_type": "code",
   "execution_count": 55,
   "id": "44ec1bb8",
   "metadata": {},
   "outputs": [],
   "source": [
    "hatecheck_test = pd.read_json('raw_data/commercial-use-allowed/en/English_Hatecheck/test_YC.json')\n",
    "hatecheck_train = pd.read_json('raw_data/commercial-use-allowed/en/English_Hatecheck/train_YC.json')\n",
    "hatecheck_val = pd.read_json('raw_data/commercial-use-allowed/en/English_Hatecheck/val_YC.json')\n"
   ]
  },
  {
   "cell_type": "code",
   "execution_count": 57,
   "id": "39ecffab",
   "metadata": {},
   "outputs": [
    {
     "data": {
      "text/html": [
       "<div>\n",
       "<style scoped>\n",
       "    .dataframe tbody tr th:only-of-type {\n",
       "        vertical-align: middle;\n",
       "    }\n",
       "\n",
       "    .dataframe tbody tr th {\n",
       "        vertical-align: top;\n",
       "    }\n",
       "\n",
       "    .dataframe thead th {\n",
       "        text-align: right;\n",
       "    }\n",
       "</style>\n",
       "<table border=\"1\" class=\"dataframe\">\n",
       "  <thead>\n",
       "    <tr style=\"text-align: right;\">\n",
       "      <th></th>\n",
       "      <th>version</th>\n",
       "      <th>data</th>\n",
       "    </tr>\n",
       "  </thead>\n",
       "  <tbody>\n",
       "    <tr>\n",
       "      <th>0</th>\n",
       "      <td>English_hatecheck</td>\n",
       "      <td>{'text': 'Those kinds of gay people ought to b...</td>\n",
       "    </tr>\n",
       "    <tr>\n",
       "      <th>1</th>\n",
       "      <td>English_hatecheck</td>\n",
       "      <td>{'text': 'There is a Muslim on my football tea...</td>\n",
       "    </tr>\n",
       "    <tr>\n",
       "      <th>2</th>\n",
       "      <td>English_hatecheck</td>\n",
       "      <td>{'text': 'I will cut their Muslimthroats. ', '...</td>\n",
       "    </tr>\n",
       "    <tr>\n",
       "      <th>3</th>\n",
       "      <td>English_hatecheck</td>\n",
       "      <td>{'text': 'Trans lives are not worth any less t...</td>\n",
       "    </tr>\n",
       "    <tr>\n",
       "      <th>4</th>\n",
       "      <td>English_hatecheck</td>\n",
       "      <td>{'text': 'Women are all complete 4ssholes. ', ...</td>\n",
       "    </tr>\n",
       "    <tr>\n",
       "      <th>...</th>\n",
       "      <td>...</td>\n",
       "      <td>...</td>\n",
       "    </tr>\n",
       "    <tr>\n",
       "      <th>2977</th>\n",
       "      <td>English_hatecheck</td>\n",
       "      <td>{'text': 'He said this was \"typical camel fuck...</td>\n",
       "    </tr>\n",
       "    <tr>\n",
       "      <th>2978</th>\n",
       "      <td>English_hatecheck</td>\n",
       "      <td>{'text': 'It's in a womn's nature to be an ann...</td>\n",
       "    </tr>\n",
       "    <tr>\n",
       "      <th>2979</th>\n",
       "      <td>English_hatecheck</td>\n",
       "      <td>{'text': 'Execution is the only solution for t...</td>\n",
       "    </tr>\n",
       "    <tr>\n",
       "      <th>2980</th>\n",
       "      <td>English_hatecheck</td>\n",
       "      <td>{'text': 'I am not surprised the idea was bull...</td>\n",
       "    </tr>\n",
       "    <tr>\n",
       "      <th>2981</th>\n",
       "      <td>English_hatecheck</td>\n",
       "      <td>{'text': 'All women are such massive scumbags....</td>\n",
       "    </tr>\n",
       "  </tbody>\n",
       "</table>\n",
       "<p>2982 rows × 2 columns</p>\n",
       "</div>"
      ],
      "text/plain": [
       "                version                                               data\n",
       "0     English_hatecheck  {'text': 'Those kinds of gay people ought to b...\n",
       "1     English_hatecheck  {'text': 'There is a Muslim on my football tea...\n",
       "2     English_hatecheck  {'text': 'I will cut their Muslimthroats. ', '...\n",
       "3     English_hatecheck  {'text': 'Trans lives are not worth any less t...\n",
       "4     English_hatecheck  {'text': 'Women are all complete 4ssholes. ', ...\n",
       "...                 ...                                                ...\n",
       "2977  English_hatecheck  {'text': 'He said this was \"typical camel fuck...\n",
       "2978  English_hatecheck  {'text': 'It's in a womn's nature to be an ann...\n",
       "2979  English_hatecheck  {'text': 'Execution is the only solution for t...\n",
       "2980  English_hatecheck  {'text': 'I am not surprised the idea was bull...\n",
       "2981  English_hatecheck  {'text': 'All women are such massive scumbags....\n",
       "\n",
       "[2982 rows x 2 columns]"
      ]
     },
     "execution_count": 57,
     "metadata": {},
     "output_type": "execute_result"
    }
   ],
   "source": [
    "hatecheck_train"
   ]
  },
  {
   "cell_type": "code",
   "execution_count": 58,
   "id": "62af576b",
   "metadata": {},
   "outputs": [
    {
     "data": {
      "text/html": [
       "<div>\n",
       "<style scoped>\n",
       "    .dataframe tbody tr th:only-of-type {\n",
       "        vertical-align: middle;\n",
       "    }\n",
       "\n",
       "    .dataframe tbody tr th {\n",
       "        vertical-align: top;\n",
       "    }\n",
       "\n",
       "    .dataframe thead th {\n",
       "        text-align: right;\n",
       "    }\n",
       "</style>\n",
       "<table border=\"1\" class=\"dataframe\">\n",
       "  <thead>\n",
       "    <tr style=\"text-align: right;\">\n",
       "      <th></th>\n",
       "      <th>text</th>\n",
       "      <th>label</th>\n",
       "    </tr>\n",
       "  </thead>\n",
       "  <tbody>\n",
       "    <tr>\n",
       "      <th>0</th>\n",
       "      <td>Those kinds of gay people ought to be celebrat...</td>\n",
       "      <td>0</td>\n",
       "    </tr>\n",
       "    <tr>\n",
       "      <th>1</th>\n",
       "      <td>There is a Muslim on my football team.</td>\n",
       "      <td>0</td>\n",
       "    </tr>\n",
       "    <tr>\n",
       "      <th>2</th>\n",
       "      <td>I will cut their Muslimthroats.</td>\n",
       "      <td>1</td>\n",
       "    </tr>\n",
       "    <tr>\n",
       "      <th>3</th>\n",
       "      <td>Trans lives are not worth any less than anyone...</td>\n",
       "      <td>0</td>\n",
       "    </tr>\n",
       "    <tr>\n",
       "      <th>4</th>\n",
       "      <td>Women are all complete 4ssholes.</td>\n",
       "      <td>1</td>\n",
       "    </tr>\n",
       "    <tr>\n",
       "      <th>...</th>\n",
       "      <td>...</td>\n",
       "      <td>...</td>\n",
       "    </tr>\n",
       "    <tr>\n",
       "      <th>2977</th>\n",
       "      <td>He said this was \"typical camel fucker behavio...</td>\n",
       "      <td>0</td>\n",
       "    </tr>\n",
       "    <tr>\n",
       "      <th>2978</th>\n",
       "      <td>It's in a womn's nature to be an annoying prick.</td>\n",
       "      <td>1</td>\n",
       "    </tr>\n",
       "    <tr>\n",
       "      <th>2979</th>\n",
       "      <td>Execution is the only solution for those gay p...</td>\n",
       "      <td>1</td>\n",
       "    </tr>\n",
       "    <tr>\n",
       "      <th>2980</th>\n",
       "      <td>I am not surprised the idea was bullshit. It c...</td>\n",
       "      <td>1</td>\n",
       "    </tr>\n",
       "    <tr>\n",
       "      <th>2981</th>\n",
       "      <td>All women are such massive scumbags.</td>\n",
       "      <td>1</td>\n",
       "    </tr>\n",
       "  </tbody>\n",
       "</table>\n",
       "<p>2982 rows × 2 columns</p>\n",
       "</div>"
      ],
      "text/plain": [
       "                                                   text  label\n",
       "0     Those kinds of gay people ought to be celebrat...      0\n",
       "1               There is a Muslim on my football team.       0\n",
       "2                      I will cut their Muslimthroats.       1\n",
       "3     Trans lives are not worth any less than anyone...      0\n",
       "4                     Women are all complete 4ssholes.       1\n",
       "...                                                 ...    ...\n",
       "2977  He said this was \"typical camel fucker behavio...      0\n",
       "2978  It's in a womn's nature to be an annoying prick.       1\n",
       "2979  Execution is the only solution for those gay p...      1\n",
       "2980  I am not surprised the idea was bullshit. It c...      1\n",
       "2981              All women are such massive scumbags.       1\n",
       "\n",
       "[2982 rows x 2 columns]"
      ]
     },
     "execution_count": 58,
     "metadata": {},
     "output_type": "execute_result"
    }
   ],
   "source": [
    "hc_train = pd.json_normalize(hatecheck_train['data'])\n",
    "hc_train"
   ]
  },
  {
   "cell_type": "code",
   "execution_count": 60,
   "id": "b0154e0e",
   "metadata": {},
   "outputs": [
    {
     "data": {
      "text/plain": [
       "label\n",
       "1    2050\n",
       "0     932\n",
       "Name: count, dtype: int64"
      ]
     },
     "execution_count": 60,
     "metadata": {},
     "output_type": "execute_result"
    }
   ],
   "source": [
    "hc_train['label'].value_counts()"
   ]
  },
  {
   "cell_type": "code",
   "execution_count": 61,
   "id": "7876a135",
   "metadata": {},
   "outputs": [],
   "source": [
    "# hc_train[hc_train['label']==0]\n",
    "hc_train['word_count'] = hc_train['text'].apply(lambda x: len(str(x).split()))\n",
    "hc_train['text_clean'] = hc_train['text'].apply(clean)"
   ]
  },
  {
   "cell_type": "code",
   "execution_count": 76,
   "id": "74b6a4f2",
   "metadata": {},
   "outputs": [
    {
     "data": {
      "text/plain": [
       "3"
      ]
     },
     "execution_count": 76,
     "metadata": {},
     "output_type": "execute_result"
    }
   ],
   "source": [
    "hc_train[hc_train['label']==0]['word_count'].min()"
   ]
  },
  {
   "cell_type": "code",
   "execution_count": 79,
   "id": "3afe297d",
   "metadata": {},
   "outputs": [
    {
     "data": {
      "text/html": [
       "<div>\n",
       "<style scoped>\n",
       "    .dataframe tbody tr th:only-of-type {\n",
       "        vertical-align: middle;\n",
       "    }\n",
       "\n",
       "    .dataframe tbody tr th {\n",
       "        vertical-align: top;\n",
       "    }\n",
       "\n",
       "    .dataframe thead th {\n",
       "        text-align: right;\n",
       "    }\n",
       "</style>\n",
       "<table border=\"1\" class=\"dataframe\">\n",
       "  <thead>\n",
       "    <tr style=\"text-align: right;\">\n",
       "      <th></th>\n",
       "      <th>text</th>\n",
       "      <th>label</th>\n",
       "      <th>word_count</th>\n",
       "      <th>text_clean</th>\n",
       "    </tr>\n",
       "  </thead>\n",
       "  <tbody>\n",
       "    <tr>\n",
       "      <th>0</th>\n",
       "      <td>Those kinds of gay people ought to be celebrat...</td>\n",
       "      <td>0</td>\n",
       "      <td>9</td>\n",
       "      <td>kinds gay people ought celebrated</td>\n",
       "    </tr>\n",
       "    <tr>\n",
       "      <th>1</th>\n",
       "      <td>There is a Muslim on my football team.</td>\n",
       "      <td>0</td>\n",
       "      <td>8</td>\n",
       "      <td>muslim football team</td>\n",
       "    </tr>\n",
       "    <tr>\n",
       "      <th>2</th>\n",
       "      <td>I will cut their Muslimthroats.</td>\n",
       "      <td>1</td>\n",
       "      <td>5</td>\n",
       "      <td>cut muslimthroats</td>\n",
       "    </tr>\n",
       "    <tr>\n",
       "      <th>3</th>\n",
       "      <td>Trans lives are not worth any less than anyone...</td>\n",
       "      <td>0</td>\n",
       "      <td>10</td>\n",
       "      <td>trans lives worth less anyone elses</td>\n",
       "    </tr>\n",
       "    <tr>\n",
       "      <th>4</th>\n",
       "      <td>Women are all complete 4ssholes.</td>\n",
       "      <td>1</td>\n",
       "      <td>5</td>\n",
       "      <td>women complete 4ssholes</td>\n",
       "    </tr>\n",
       "    <tr>\n",
       "      <th>...</th>\n",
       "      <td>...</td>\n",
       "      <td>...</td>\n",
       "      <td>...</td>\n",
       "      <td>...</td>\n",
       "    </tr>\n",
       "    <tr>\n",
       "      <th>2977</th>\n",
       "      <td>He said this was \"typical camel fucker behavio...</td>\n",
       "      <td>0</td>\n",
       "      <td>14</td>\n",
       "      <td>said typical camel fucker behaviour shows bigoted</td>\n",
       "    </tr>\n",
       "    <tr>\n",
       "      <th>2978</th>\n",
       "      <td>It's in a womn's nature to be an annoying prick.</td>\n",
       "      <td>1</td>\n",
       "      <td>10</td>\n",
       "      <td>womns nature annoying prick</td>\n",
       "    </tr>\n",
       "    <tr>\n",
       "      <th>2979</th>\n",
       "      <td>Execution is the only solution for those gay p...</td>\n",
       "      <td>1</td>\n",
       "      <td>9</td>\n",
       "      <td>execution solution gay people</td>\n",
       "    </tr>\n",
       "    <tr>\n",
       "      <th>2980</th>\n",
       "      <td>I am not surprised the idea was bullshit. It c...</td>\n",
       "      <td>1</td>\n",
       "      <td>16</td>\n",
       "      <td>surprised idea bullshit came disabled person</td>\n",
       "    </tr>\n",
       "    <tr>\n",
       "      <th>2981</th>\n",
       "      <td>All women are such massive scumbags.</td>\n",
       "      <td>1</td>\n",
       "      <td>6</td>\n",
       "      <td>women massive scumbags</td>\n",
       "    </tr>\n",
       "  </tbody>\n",
       "</table>\n",
       "<p>2982 rows × 4 columns</p>\n",
       "</div>"
      ],
      "text/plain": [
       "                                                   text  label  word_count  \\\n",
       "0     Those kinds of gay people ought to be celebrat...      0           9   \n",
       "1               There is a Muslim on my football team.       0           8   \n",
       "2                      I will cut their Muslimthroats.       1           5   \n",
       "3     Trans lives are not worth any less than anyone...      0          10   \n",
       "4                     Women are all complete 4ssholes.       1           5   \n",
       "...                                                 ...    ...         ...   \n",
       "2977  He said this was \"typical camel fucker behavio...      0          14   \n",
       "2978  It's in a womn's nature to be an annoying prick.       1          10   \n",
       "2979  Execution is the only solution for those gay p...      1           9   \n",
       "2980  I am not surprised the idea was bullshit. It c...      1          16   \n",
       "2981              All women are such massive scumbags.       1           6   \n",
       "\n",
       "                                             text_clean  \n",
       "0                     kinds gay people ought celebrated  \n",
       "1                                  muslim football team  \n",
       "2                                     cut muslimthroats  \n",
       "3                   trans lives worth less anyone elses  \n",
       "4                               women complete 4ssholes  \n",
       "...                                                 ...  \n",
       "2977  said typical camel fucker behaviour shows bigoted  \n",
       "2978                        womns nature annoying prick  \n",
       "2979                      execution solution gay people  \n",
       "2980       surprised idea bullshit came disabled person  \n",
       "2981                             women massive scumbags  \n",
       "\n",
       "[2982 rows x 4 columns]"
      ]
     },
     "execution_count": 79,
     "metadata": {},
     "output_type": "execute_result"
    }
   ],
   "source": [
    "hc_train.drop_duplicates()"
   ]
  },
  {
   "cell_type": "code",
   "execution_count": 80,
   "id": "58cb9255",
   "metadata": {},
   "outputs": [
    {
     "data": {
      "text/html": [
       "<div>\n",
       "<style scoped>\n",
       "    .dataframe tbody tr th:only-of-type {\n",
       "        vertical-align: middle;\n",
       "    }\n",
       "\n",
       "    .dataframe tbody tr th {\n",
       "        vertical-align: top;\n",
       "    }\n",
       "\n",
       "    .dataframe thead th {\n",
       "        text-align: right;\n",
       "    }\n",
       "</style>\n",
       "<table border=\"1\" class=\"dataframe\">\n",
       "  <thead>\n",
       "    <tr style=\"text-align: right;\">\n",
       "      <th></th>\n",
       "      <th>text</th>\n",
       "      <th>label</th>\n",
       "      <th>word_count</th>\n",
       "      <th>text_clean</th>\n",
       "    </tr>\n",
       "  </thead>\n",
       "  <tbody>\n",
       "    <tr>\n",
       "      <th>0</th>\n",
       "      <td>Those kinds of gay people ought to be celebrat...</td>\n",
       "      <td>0</td>\n",
       "      <td>9</td>\n",
       "      <td>kinds gay people ought celebrated</td>\n",
       "    </tr>\n",
       "    <tr>\n",
       "      <th>1</th>\n",
       "      <td>There is a Muslim on my football team.</td>\n",
       "      <td>0</td>\n",
       "      <td>8</td>\n",
       "      <td>muslim football team</td>\n",
       "    </tr>\n",
       "    <tr>\n",
       "      <th>2</th>\n",
       "      <td>I will cut their Muslimthroats.</td>\n",
       "      <td>1</td>\n",
       "      <td>5</td>\n",
       "      <td>cut muslimthroats</td>\n",
       "    </tr>\n",
       "    <tr>\n",
       "      <th>3</th>\n",
       "      <td>Trans lives are not worth any less than anyone...</td>\n",
       "      <td>0</td>\n",
       "      <td>10</td>\n",
       "      <td>trans lives worth less anyone elses</td>\n",
       "    </tr>\n",
       "    <tr>\n",
       "      <th>4</th>\n",
       "      <td>Women are all complete 4ssholes.</td>\n",
       "      <td>1</td>\n",
       "      <td>5</td>\n",
       "      <td>women complete 4ssholes</td>\n",
       "    </tr>\n",
       "    <tr>\n",
       "      <th>...</th>\n",
       "      <td>...</td>\n",
       "      <td>...</td>\n",
       "      <td>...</td>\n",
       "      <td>...</td>\n",
       "    </tr>\n",
       "    <tr>\n",
       "      <th>2977</th>\n",
       "      <td>He said this was \"typical camel fucker behavio...</td>\n",
       "      <td>0</td>\n",
       "      <td>14</td>\n",
       "      <td>said typical camel fucker behaviour shows bigoted</td>\n",
       "    </tr>\n",
       "    <tr>\n",
       "      <th>2978</th>\n",
       "      <td>It's in a womn's nature to be an annoying prick.</td>\n",
       "      <td>1</td>\n",
       "      <td>10</td>\n",
       "      <td>womns nature annoying prick</td>\n",
       "    </tr>\n",
       "    <tr>\n",
       "      <th>2979</th>\n",
       "      <td>Execution is the only solution for those gay p...</td>\n",
       "      <td>1</td>\n",
       "      <td>9</td>\n",
       "      <td>execution solution gay people</td>\n",
       "    </tr>\n",
       "    <tr>\n",
       "      <th>2980</th>\n",
       "      <td>I am not surprised the idea was bullshit. It c...</td>\n",
       "      <td>1</td>\n",
       "      <td>16</td>\n",
       "      <td>surprised idea bullshit came disabled person</td>\n",
       "    </tr>\n",
       "    <tr>\n",
       "      <th>2981</th>\n",
       "      <td>All women are such massive scumbags.</td>\n",
       "      <td>1</td>\n",
       "      <td>6</td>\n",
       "      <td>women massive scumbags</td>\n",
       "    </tr>\n",
       "  </tbody>\n",
       "</table>\n",
       "<p>2982 rows × 4 columns</p>\n",
       "</div>"
      ],
      "text/plain": [
       "                                                   text  label  word_count  \\\n",
       "0     Those kinds of gay people ought to be celebrat...      0           9   \n",
       "1               There is a Muslim on my football team.       0           8   \n",
       "2                      I will cut their Muslimthroats.       1           5   \n",
       "3     Trans lives are not worth any less than anyone...      0          10   \n",
       "4                     Women are all complete 4ssholes.       1           5   \n",
       "...                                                 ...    ...         ...   \n",
       "2977  He said this was \"typical camel fucker behavio...      0          14   \n",
       "2978  It's in a womn's nature to be an annoying prick.       1          10   \n",
       "2979  Execution is the only solution for those gay p...      1           9   \n",
       "2980  I am not surprised the idea was bullshit. It c...      1          16   \n",
       "2981              All women are such massive scumbags.       1           6   \n",
       "\n",
       "                                             text_clean  \n",
       "0                     kinds gay people ought celebrated  \n",
       "1                                  muslim football team  \n",
       "2                                     cut muslimthroats  \n",
       "3                   trans lives worth less anyone elses  \n",
       "4                               women complete 4ssholes  \n",
       "...                                                 ...  \n",
       "2977  said typical camel fucker behaviour shows bigoted  \n",
       "2978                        womns nature annoying prick  \n",
       "2979                      execution solution gay people  \n",
       "2980       surprised idea bullshit came disabled person  \n",
       "2981                             women massive scumbags  \n",
       "\n",
       "[2982 rows x 4 columns]"
      ]
     },
     "execution_count": 80,
     "metadata": {},
     "output_type": "execute_result"
    }
   ],
   "source": [
    "hc_train"
   ]
  },
  {
   "cell_type": "code",
   "execution_count": 83,
   "id": "16067581",
   "metadata": {},
   "outputs": [
    {
     "data": {
      "image/png": "[encoded data removed]",
      "text/plain": [
       "<Figure size 640x480 with 1 Axes>"
      ]
     },
     "metadata": {},
     "output_type": "display_data"
    }
   ],
   "source": [
    "trigram_counter(hc_train, 0, 'Non-HAP')"
   ]
  },
  {
   "cell_type": "code",
   "execution_count": 84,
   "id": "44784c16",
   "metadata": {},
   "outputs": [
    {
     "data": {
      "image/png": "[encoded data removed]",
      "text/plain": [
       "<Figure size 640x480 with 1 Axes>"
      ]
     },
     "metadata": {},
     "output_type": "display_data"
    }
   ],
   "source": [
    "trigram_counter(hc_train,1, 'HAP')"
   ]
  },
  {
   "cell_type": "code",
   "execution_count": 86,
   "id": "aef37d28",
   "metadata": {},
   "outputs": [
    {
     "data": {
      "image/png": "[encoded data removed]",
      "text/plain": [
       "<Figure size 640x480 with 1 Axes>"
      ]
     },
     "metadata": {},
     "output_type": "display_data"
    }
   ],
   "source": [
    "count_words(hc_train, 1, 'HAP')"
   ]
  },
  {
   "cell_type": "code",
   "execution_count": 91,
   "id": "9afd22d9",
   "metadata": {},
   "outputs": [
    {
     "data": {
      "image/png": "[encoded data removed]",
      "text/plain": [
       "<Figure size 640x480 with 1 Axes>"
      ]
     },
     "metadata": {},
     "output_type": "display_data"
    }
   ],
   "source": [
    "count_words(hc_train, 1, 'HAP')"
   ]
  },
  {
   "cell_type": "code",
   "execution_count": 100,
   "id": "3059bf47",
   "metadata": {},
   "outputs": [
    {
     "data": {
      "text/html": [
       "<div>\n",
       "<style scoped>\n",
       "    .dataframe tbody tr th:only-of-type {\n",
       "        vertical-align: middle;\n",
       "    }\n",
       "\n",
       "    .dataframe tbody tr th {\n",
       "        vertical-align: top;\n",
       "    }\n",
       "\n",
       "    .dataframe thead th {\n",
       "        text-align: right;\n",
       "    }\n",
       "</style>\n",
       "<table border=\"1\" class=\"dataframe\">\n",
       "  <thead>\n",
       "    <tr style=\"text-align: right;\">\n",
       "      <th></th>\n",
       "      <th>text</th>\n",
       "      <th>label</th>\n",
       "      <th>word_count</th>\n",
       "      <th>text_clean</th>\n",
       "    </tr>\n",
       "  </thead>\n",
       "  <tbody>\n",
       "    <tr>\n",
       "      <th>47</th>\n",
       "      <td>If you say \"I hate gay people\", then you are a...</td>\n",
       "      <td>0</td>\n",
       "      <td>12</td>\n",
       "      <td>say hate gay people bigot</td>\n",
       "    </tr>\n",
       "    <tr>\n",
       "      <th>70</th>\n",
       "      <td>Immigrants like you are absolutefilth.</td>\n",
       "      <td>1</td>\n",
       "      <td>5</td>\n",
       "      <td>immigrants like absolutefilth</td>\n",
       "    </tr>\n",
       "    <tr>\n",
       "      <th>73</th>\n",
       "      <td>Black people like you are justpathetic.</td>\n",
       "      <td>1</td>\n",
       "      <td>6</td>\n",
       "      <td>black people like justpathetic</td>\n",
       "    </tr>\n",
       "    <tr>\n",
       "      <th>108</th>\n",
       "      <td>Muslims like you are justpathetic.</td>\n",
       "      <td>1</td>\n",
       "      <td>5</td>\n",
       "      <td>muslims like justpathetic</td>\n",
       "    </tr>\n",
       "    <tr>\n",
       "      <th>128</th>\n",
       "      <td>Saying that you hate disabled people shows how...</td>\n",
       "      <td>0</td>\n",
       "      <td>11</td>\n",
       "      <td>saying hate disabled people shows misguided</td>\n",
       "    </tr>\n",
       "    <tr>\n",
       "      <th>...</th>\n",
       "      <td>...</td>\n",
       "      <td>...</td>\n",
       "      <td>...</td>\n",
       "      <td>...</td>\n",
       "    </tr>\n",
       "    <tr>\n",
       "      <th>2811</th>\n",
       "      <td>Disabled people like you are justpathetic.</td>\n",
       "      <td>1</td>\n",
       "      <td>6</td>\n",
       "      <td>disabled people like justpathetic</td>\n",
       "    </tr>\n",
       "    <tr>\n",
       "      <th>2816</th>\n",
       "      <td>If you ask me, trans people like you are no be...</td>\n",
       "      <td>1</td>\n",
       "      <td>13</td>\n",
       "      <td>ask trans people like better rats</td>\n",
       "    </tr>\n",
       "    <tr>\n",
       "      <th>2823</th>\n",
       "      <td>Do you not realise how hateful you are being w...</td>\n",
       "      <td>0</td>\n",
       "      <td>13</td>\n",
       "      <td>realise hateful calling immigrants trash</td>\n",
       "    </tr>\n",
       "    <tr>\n",
       "      <th>2888</th>\n",
       "      <td>Writing that Muslims are all assholes says a l...</td>\n",
       "      <td>0</td>\n",
       "      <td>14</td>\n",
       "      <td>writing muslims assholes says lot small-minded</td>\n",
       "    </tr>\n",
       "    <tr>\n",
       "      <th>2958</th>\n",
       "      <td>Gay people like you are justpathetic.</td>\n",
       "      <td>1</td>\n",
       "      <td>6</td>\n",
       "      <td>gay people like justpathetic</td>\n",
       "    </tr>\n",
       "  </tbody>\n",
       "</table>\n",
       "<p>96 rows × 4 columns</p>\n",
       "</div>"
      ],
      "text/plain": [
       "                                                   text  label  word_count  \\\n",
       "47    If you say \"I hate gay people\", then you are a...      0          12   \n",
       "70              Immigrants like you are absolutefilth.       1           5   \n",
       "73             Black people like you are justpathetic.       1           6   \n",
       "108                 Muslims like you are justpathetic.       1           5   \n",
       "128   Saying that you hate disabled people shows how...      0          11   \n",
       "...                                                 ...    ...         ...   \n",
       "2811        Disabled people like you are justpathetic.       1           6   \n",
       "2816  If you ask me, trans people like you are no be...      1          13   \n",
       "2823  Do you not realise how hateful you are being w...      0          13   \n",
       "2888  Writing that Muslims are all assholes says a l...      0          14   \n",
       "2958             Gay people like you are justpathetic.       1           6   \n",
       "\n",
       "                                          text_clean  \n",
       "47                         say hate gay people bigot  \n",
       "70                     immigrants like absolutefilth  \n",
       "73                    black people like justpathetic  \n",
       "108                        muslims like justpathetic  \n",
       "128      saying hate disabled people shows misguided  \n",
       "...                                              ...  \n",
       "2811               disabled people like justpathetic  \n",
       "2816               ask trans people like better rats  \n",
       "2823        realise hateful calling immigrants trash  \n",
       "2888  writing muslims assholes says lot small-minded  \n",
       "2958                    gay people like justpathetic  \n",
       "\n",
       "[96 rows x 4 columns]"
      ]
     },
     "execution_count": 100,
     "metadata": {},
     "output_type": "execute_result"
    }
   ],
   "source": [
    "hc_train[hc_train['text'].str.contains('you are')]\n",
    "\n"
   ]
  },
  {
   "cell_type": "markdown",
   "id": "e753e328",
   "metadata": {},
   "source": [
    "# English 2a Dataset"
   ]
  },
  {
   "cell_type": "code",
   "execution_count": 107,
   "id": "44544483",
   "metadata": {},
   "outputs": [],
   "source": [
    "# E2a = pd.read_json('raw_data/commercial-use-allowed/en/English_2a/test_YC.json')\n",
    "E2a_train = pd.read_json('raw_data/commercial-use-allowed/en/English_2a/train_YC.json')\n",
    "# twit_crowd_val = pd.read_json('raw_data/commercial-use-allowed/en/English_2a/val_YC.json')\n",
    "\n",
    "E2a_t = pd.json_normalize(E2a_train['data'])\n",
    "E2a_t['text_clean'] = E2a_t['text'].apply(clean)\n",
    "E2a_t['word_count'] = E2a_t['text'].apply(lambda x: len(str(x).split()))"
   ]
  },
  {
   "cell_type": "code",
   "execution_count": 108,
   "id": "79924361",
   "metadata": {},
   "outputs": [
    {
     "data": {
      "text/html": [
       "<div>\n",
       "<style scoped>\n",
       "    .dataframe tbody tr th:only-of-type {\n",
       "        vertical-align: middle;\n",
       "    }\n",
       "\n",
       "    .dataframe tbody tr th {\n",
       "        vertical-align: top;\n",
       "    }\n",
       "\n",
       "    .dataframe thead th {\n",
       "        text-align: right;\n",
       "    }\n",
       "</style>\n",
       "<table border=\"1\" class=\"dataframe\">\n",
       "  <thead>\n",
       "    <tr style=\"text-align: right;\">\n",
       "      <th></th>\n",
       "      <th>text</th>\n",
       "      <th>label</th>\n",
       "      <th>text_clean</th>\n",
       "      <th>word_count</th>\n",
       "    </tr>\n",
       "  </thead>\n",
       "  <tbody>\n",
       "    <tr>\n",
       "      <th>0</th>\n",
       "      <td>Sitting alone watching White Chicks, no pants,...</td>\n",
       "      <td>0</td>\n",
       "      <td>sitting alone watching white chicks pants fuzz...</td>\n",
       "      <td>13</td>\n",
       "    </tr>\n",
       "    <tr>\n",
       "      <th>1</th>\n",
       "      <td>Michael Sam being cut further proves that we f...</td>\n",
       "      <td>1</td>\n",
       "      <td>michael sam cut proves fags dont belong footba...</td>\n",
       "      <td>22</td>\n",
       "    </tr>\n",
       "    <tr>\n",
       "      <th>2</th>\n",
       "      <td>This is so much fun! &amp;#128070;&amp;#128588; #1UBB ...</td>\n",
       "      <td>0</td>\n",
       "      <td>much fun 128070128588 1ubb 1ndiana hoosiers ho...</td>\n",
       "      <td>10</td>\n",
       "    </tr>\n",
       "    <tr>\n",
       "      <th>3</th>\n",
       "      <td>RT @ZonedMoan: Smh RT @TieMyDuragBoo: And Henn...</td>\n",
       "      <td>0</td>\n",
       "      <td>rt zonedmoan smh rt tiemyduragboo henny rt bkr...</td>\n",
       "      <td>16</td>\n",
       "    </tr>\n",
       "    <tr>\n",
       "      <th>4</th>\n",
       "      <td>RT @jpayneancap: @A_M_Perez @sybilll @DianneWi...</td>\n",
       "      <td>0</td>\n",
       "      <td>rt jpayneancap amperez sybilll diannewing2 vel...</td>\n",
       "      <td>17</td>\n",
       "    </tr>\n",
       "    <tr>\n",
       "      <th>...</th>\n",
       "      <td>...</td>\n",
       "      <td>...</td>\n",
       "      <td>...</td>\n",
       "      <td>...</td>\n",
       "    </tr>\n",
       "    <tr>\n",
       "      <th>3909</th>\n",
       "      <td>Ok so not all the shows on Cartoon Network are...</td>\n",
       "      <td>0</td>\n",
       "      <td>ok shows cartoon network complete trash stevm ...</td>\n",
       "      <td>16</td>\n",
       "    </tr>\n",
       "    <tr>\n",
       "      <th>3910</th>\n",
       "      <td>Eagles fuck around &amp;amp; lose it'll be kill th...</td>\n",
       "      <td>1</td>\n",
       "      <td>eagles fuck around amp lose itll kill cracker ...</td>\n",
       "      <td>15</td>\n",
       "    </tr>\n",
       "    <tr>\n",
       "      <th>3911</th>\n",
       "      <td>RT @indykaila: Exclusive: Ars&amp;#232;ne Wenger g...</td>\n",
       "      <td>0</td>\n",
       "      <td>rt indykaila exclusive ars232ne wenger gave tw...</td>\n",
       "      <td>20</td>\n",
       "    </tr>\n",
       "    <tr>\n",
       "      <th>3912</th>\n",
       "      <td>RT @Amoreshonta: &amp;#8220;@WestDontCare: Big bir...</td>\n",
       "      <td>0</td>\n",
       "      <td>rt amoreshonta 8220westdontcare big bird spoke...</td>\n",
       "      <td>15</td>\n",
       "    </tr>\n",
       "    <tr>\n",
       "      <th>3913</th>\n",
       "      <td>Just seen a pic comparison of Lou Holtz and he...</td>\n",
       "      <td>0</td>\n",
       "      <td>seen pic comparison lou holtz grandma beverly ...</td>\n",
       "      <td>23</td>\n",
       "    </tr>\n",
       "  </tbody>\n",
       "</table>\n",
       "<p>3914 rows × 4 columns</p>\n",
       "</div>"
      ],
      "text/plain": [
       "                                                   text  label  \\\n",
       "0     Sitting alone watching White Chicks, no pants,...      0   \n",
       "1     Michael Sam being cut further proves that we f...      1   \n",
       "2     This is so much fun! &#128070;&#128588; #1UBB ...      0   \n",
       "3     RT @ZonedMoan: Smh RT @TieMyDuragBoo: And Henn...      0   \n",
       "4     RT @jpayneancap: @A_M_Perez @sybilll @DianneWi...      0   \n",
       "...                                                 ...    ...   \n",
       "3909  Ok so not all the shows on Cartoon Network are...      0   \n",
       "3910  Eagles fuck around &amp; lose it'll be kill th...      1   \n",
       "3911  RT @indykaila: Exclusive: Ars&#232;ne Wenger g...      0   \n",
       "3912  RT @Amoreshonta: &#8220;@WestDontCare: Big bir...      0   \n",
       "3913  Just seen a pic comparison of Lou Holtz and he...      0   \n",
       "\n",
       "                                             text_clean  word_count  \n",
       "0     sitting alone watching white chicks pants fuzz...          13  \n",
       "1     michael sam cut proves fags dont belong footba...          22  \n",
       "2     much fun 128070128588 1ubb 1ndiana hoosiers ho...          10  \n",
       "3     rt zonedmoan smh rt tiemyduragboo henny rt bkr...          16  \n",
       "4     rt jpayneancap amperez sybilll diannewing2 vel...          17  \n",
       "...                                                 ...         ...  \n",
       "3909  ok shows cartoon network complete trash stevm ...          16  \n",
       "3910  eagles fuck around amp lose itll kill cracker ...          15  \n",
       "3911  rt indykaila exclusive ars232ne wenger gave tw...          20  \n",
       "3912  rt amoreshonta 8220westdontcare big bird spoke...          15  \n",
       "3913  seen pic comparison lou holtz grandma beverly ...          23  \n",
       "\n",
       "[3914 rows x 4 columns]"
      ]
     },
     "execution_count": 108,
     "metadata": {},
     "output_type": "execute_result"
    }
   ],
   "source": [
    "E2a_t"
   ]
  },
  {
   "cell_type": "code",
   "execution_count": 124,
   "id": "4e98d56f",
   "metadata": {},
   "outputs": [
    {
     "data": {
      "text/plain": [
       "14.598875830352581"
      ]
     },
     "execution_count": 124,
     "metadata": {},
     "output_type": "execute_result"
    }
   ],
   "source": [
    "E2a_t['word_count'].mean()"
   ]
  },
  {
   "cell_type": "code",
   "execution_count": 129,
   "id": "c9ec3230",
   "metadata": {},
   "outputs": [
    {
     "data": {
      "text/html": [
       "<div>\n",
       "<style scoped>\n",
       "    .dataframe tbody tr th:only-of-type {\n",
       "        vertical-align: middle;\n",
       "    }\n",
       "\n",
       "    .dataframe tbody tr th {\n",
       "        vertical-align: top;\n",
       "    }\n",
       "\n",
       "    .dataframe thead th {\n",
       "        text-align: right;\n",
       "    }\n",
       "</style>\n",
       "<table border=\"1\" class=\"dataframe\">\n",
       "  <thead>\n",
       "    <tr style=\"text-align: right;\">\n",
       "      <th></th>\n",
       "      <th>text</th>\n",
       "      <th>label</th>\n",
       "      <th>text_clean</th>\n",
       "      <th>word_count</th>\n",
       "    </tr>\n",
       "  </thead>\n",
       "  <tbody>\n",
       "    <tr>\n",
       "      <th>0</th>\n",
       "      <td>Sitting alone watching White Chicks, no pants,...</td>\n",
       "      <td>0</td>\n",
       "      <td>sitting alone watching white chicks pants fuzz...</td>\n",
       "      <td>13</td>\n",
       "    </tr>\n",
       "    <tr>\n",
       "      <th>1</th>\n",
       "      <td>Michael Sam being cut further proves that we f...</td>\n",
       "      <td>1</td>\n",
       "      <td>michael sam cut proves fags dont belong footba...</td>\n",
       "      <td>22</td>\n",
       "    </tr>\n",
       "    <tr>\n",
       "      <th>2</th>\n",
       "      <td>This is so much fun! &amp;#128070;&amp;#128588; #1UBB ...</td>\n",
       "      <td>0</td>\n",
       "      <td>much fun 128070128588 1ubb 1ndiana hoosiers ho...</td>\n",
       "      <td>10</td>\n",
       "    </tr>\n",
       "    <tr>\n",
       "      <th>3</th>\n",
       "      <td>RT @ZonedMoan: Smh RT @TieMyDuragBoo: And Henn...</td>\n",
       "      <td>0</td>\n",
       "      <td>rt zonedmoan smh rt tiemyduragboo henny rt bkr...</td>\n",
       "      <td>16</td>\n",
       "    </tr>\n",
       "    <tr>\n",
       "      <th>4</th>\n",
       "      <td>RT @jpayneancap: @A_M_Perez @sybilll @DianneWi...</td>\n",
       "      <td>0</td>\n",
       "      <td>rt jpayneancap amperez sybilll diannewing2 vel...</td>\n",
       "      <td>17</td>\n",
       "    </tr>\n",
       "    <tr>\n",
       "      <th>...</th>\n",
       "      <td>...</td>\n",
       "      <td>...</td>\n",
       "      <td>...</td>\n",
       "      <td>...</td>\n",
       "    </tr>\n",
       "    <tr>\n",
       "      <th>3909</th>\n",
       "      <td>Ok so not all the shows on Cartoon Network are...</td>\n",
       "      <td>0</td>\n",
       "      <td>ok shows cartoon network complete trash stevm ...</td>\n",
       "      <td>16</td>\n",
       "    </tr>\n",
       "    <tr>\n",
       "      <th>3910</th>\n",
       "      <td>Eagles fuck around &amp;amp; lose it'll be kill th...</td>\n",
       "      <td>1</td>\n",
       "      <td>eagles fuck around amp lose itll kill cracker ...</td>\n",
       "      <td>15</td>\n",
       "    </tr>\n",
       "    <tr>\n",
       "      <th>3911</th>\n",
       "      <td>RT @indykaila: Exclusive: Ars&amp;#232;ne Wenger g...</td>\n",
       "      <td>0</td>\n",
       "      <td>rt indykaila exclusive ars232ne wenger gave tw...</td>\n",
       "      <td>20</td>\n",
       "    </tr>\n",
       "    <tr>\n",
       "      <th>3912</th>\n",
       "      <td>RT @Amoreshonta: &amp;#8220;@WestDontCare: Big bir...</td>\n",
       "      <td>0</td>\n",
       "      <td>rt amoreshonta 8220westdontcare big bird spoke...</td>\n",
       "      <td>15</td>\n",
       "    </tr>\n",
       "    <tr>\n",
       "      <th>3913</th>\n",
       "      <td>Just seen a pic comparison of Lou Holtz and he...</td>\n",
       "      <td>0</td>\n",
       "      <td>seen pic comparison lou holtz grandma beverly ...</td>\n",
       "      <td>23</td>\n",
       "    </tr>\n",
       "  </tbody>\n",
       "</table>\n",
       "<p>3914 rows × 4 columns</p>\n",
       "</div>"
      ],
      "text/plain": [
       "                                                   text  label  \\\n",
       "0     Sitting alone watching White Chicks, no pants,...      0   \n",
       "1     Michael Sam being cut further proves that we f...      1   \n",
       "2     This is so much fun! &#128070;&#128588; #1UBB ...      0   \n",
       "3     RT @ZonedMoan: Smh RT @TieMyDuragBoo: And Henn...      0   \n",
       "4     RT @jpayneancap: @A_M_Perez @sybilll @DianneWi...      0   \n",
       "...                                                 ...    ...   \n",
       "3909  Ok so not all the shows on Cartoon Network are...      0   \n",
       "3910  Eagles fuck around &amp; lose it'll be kill th...      1   \n",
       "3911  RT @indykaila: Exclusive: Ars&#232;ne Wenger g...      0   \n",
       "3912  RT @Amoreshonta: &#8220;@WestDontCare: Big bir...      0   \n",
       "3913  Just seen a pic comparison of Lou Holtz and he...      0   \n",
       "\n",
       "                                             text_clean  word_count  \n",
       "0     sitting alone watching white chicks pants fuzz...          13  \n",
       "1     michael sam cut proves fags dont belong footba...          22  \n",
       "2     much fun 128070128588 1ubb 1ndiana hoosiers ho...          10  \n",
       "3     rt zonedmoan smh rt tiemyduragboo henny rt bkr...          16  \n",
       "4     rt jpayneancap amperez sybilll diannewing2 vel...          17  \n",
       "...                                                 ...         ...  \n",
       "3909  ok shows cartoon network complete trash stevm ...          16  \n",
       "3910  eagles fuck around amp lose itll kill cracker ...          15  \n",
       "3911  rt indykaila exclusive ars232ne wenger gave tw...          20  \n",
       "3912  rt amoreshonta 8220westdontcare big bird spoke...          15  \n",
       "3913  seen pic comparison lou holtz grandma beverly ...          23  \n",
       "\n",
       "[3914 rows x 4 columns]"
      ]
     },
     "execution_count": 129,
     "metadata": {},
     "output_type": "execute_result"
    }
   ],
   "source": [
    "E2a_t.drop_duplicates()"
   ]
  },
  {
   "cell_type": "code",
   "execution_count": 130,
   "id": "a7c13524",
   "metadata": {},
   "outputs": [
    {
     "data": {
      "image/png": "[encoded data removed]",
      "text/plain": [
       "<Figure size 640x480 with 1 Axes>"
      ]
     },
     "metadata": {},
     "output_type": "display_data"
    }
   ],
   "source": [
    "trigram_counter(E2a_t,1, 'HAP')"
   ]
  },
  {
   "cell_type": "code",
   "execution_count": 131,
   "id": "a11e5703",
   "metadata": {},
   "outputs": [
    {
     "data": {
      "image/png": "[encoded data removed]",
      "text/plain": [
       "<Figure size 640x480 with 1 Axes>"
      ]
     },
     "metadata": {},
     "output_type": "display_data"
    }
   ],
   "source": [
    "trigram_counter(E2a_t,0, 'Non-HAP')"
   ]
  },
  {
   "cell_type": "code",
   "execution_count": 132,
   "id": "4c75cdd3",
   "metadata": {},
   "outputs": [
    {
     "data": {
      "image/png": "[encoded data removed]",
      "text/plain": [
       "<Figure size 640x480 with 1 Axes>"
      ]
     },
     "metadata": {},
     "output_type": "display_data"
    }
   ],
   "source": [
    "count_words(E2a_t, 1, 'HAP')"
   ]
  },
  {
   "cell_type": "code",
   "execution_count": 133,
   "id": "8dbb9c83",
   "metadata": {},
   "outputs": [
    {
     "data": {
      "image/png": "[encoded data removed]",
      "text/plain": [
       "<Figure size 640x480 with 1 Axes>"
      ]
     },
     "metadata": {},
     "output_type": "display_data"
    }
   ],
   "source": [
    "count_words(E2a_t, 0, 'Non-HAP')"
   ]
  },
  {
   "cell_type": "code",
   "execution_count": 138,
   "id": "dd369599",
   "metadata": {},
   "outputs": [
    {
     "data": {
      "text/html": [
       "<div>\n",
       "<style scoped>\n",
       "    .dataframe tbody tr th:only-of-type {\n",
       "        vertical-align: middle;\n",
       "    }\n",
       "\n",
       "    .dataframe tbody tr th {\n",
       "        vertical-align: top;\n",
       "    }\n",
       "\n",
       "    .dataframe thead th {\n",
       "        text-align: right;\n",
       "    }\n",
       "</style>\n",
       "<table border=\"1\" class=\"dataframe\">\n",
       "  <thead>\n",
       "    <tr style=\"text-align: right;\">\n",
       "      <th></th>\n",
       "      <th>text</th>\n",
       "      <th>label</th>\n",
       "      <th>text_clean</th>\n",
       "      <th>word_count</th>\n",
       "    </tr>\n",
       "  </thead>\n",
       "  <tbody>\n",
       "    <tr>\n",
       "      <th>18</th>\n",
       "      <td>AND #NorthKorea called #Barack a monkey. LOL! ...</td>\n",
       "      <td>0</td>\n",
       "      <td>northkorea called barack monkey lol rt shoe fi...</td>\n",
       "      <td>21</td>\n",
       "    </tr>\n",
       "    <tr>\n",
       "      <th>24</th>\n",
       "      <td>@_Lakers4Life24 Tracy Morgan is a sad comparis...</td>\n",
       "      <td>0</td>\n",
       "      <td>lakers4life24 tracy morgan sad comparison come...</td>\n",
       "      <td>19</td>\n",
       "    </tr>\n",
       "    <tr>\n",
       "      <th>34</th>\n",
       "      <td>RT @vexedmentals: draya really out catching a ...</td>\n",
       "      <td>0</td>\n",
       "      <td>rt vexedmentals draya really catching tan son ...</td>\n",
       "      <td>24</td>\n",
       "    </tr>\n",
       "    <tr>\n",
       "      <th>82</th>\n",
       "      <td>Would you rather be a monkey or a gorilla? &amp;#8...</td>\n",
       "      <td>0</td>\n",
       "      <td>would rather monkey gorilla 8212 neither theyr...</td>\n",
       "      <td>24</td>\n",
       "    </tr>\n",
       "    <tr>\n",
       "      <th>87</th>\n",
       "      <td>@SugarShai2 youtube bear vs monkey bike race!</td>\n",
       "      <td>0</td>\n",
       "      <td>sugarshai2 youtube bear vs monkey bike race</td>\n",
       "      <td>7</td>\n",
       "    </tr>\n",
       "    <tr>\n",
       "      <th>...</th>\n",
       "      <td>...</td>\n",
       "      <td>...</td>\n",
       "      <td>...</td>\n",
       "      <td>...</td>\n",
       "    </tr>\n",
       "    <tr>\n",
       "      <th>3761</th>\n",
       "      <td>1-100000 You are a semi-evolved monkey that is...</td>\n",
       "      <td>0</td>\n",
       "      <td>1-100000 semi-evolved monkey desperately searc...</td>\n",
       "      <td>23</td>\n",
       "    </tr>\n",
       "    <tr>\n",
       "      <th>3779</th>\n",
       "      <td>I love floating monkey heads as much as the ne...</td>\n",
       "      <td>0</td>\n",
       "      <td>love floating monkey heads much next person ac...</td>\n",
       "      <td>19</td>\n",
       "    </tr>\n",
       "    <tr>\n",
       "      <th>3805</th>\n",
       "      <td>@iStricer You are hairy like a monkey. : P</td>\n",
       "      <td>0</td>\n",
       "      <td>istricer hairy like monkey p</td>\n",
       "      <td>9</td>\n",
       "    </tr>\n",
       "    <tr>\n",
       "      <th>3893</th>\n",
       "      <td>RT @cpabry: Curious George, the curious little...</td>\n",
       "      <td>0</td>\n",
       "      <td>rt cpabry curious george curious little monkey...</td>\n",
       "      <td>24</td>\n",
       "    </tr>\n",
       "    <tr>\n",
       "      <th>3894</th>\n",
       "      <td>My baby boy asleep with my monkey that I had s...</td>\n",
       "      <td>0</td>\n",
       "      <td>baby boy asleep monkey since little love son m...</td>\n",
       "      <td>21</td>\n",
       "    </tr>\n",
       "  </tbody>\n",
       "</table>\n",
       "<p>72 rows × 4 columns</p>\n",
       "</div>"
      ],
      "text/plain": [
       "                                                   text  label  \\\n",
       "18    AND #NorthKorea called #Barack a monkey. LOL! ...      0   \n",
       "24    @_Lakers4Life24 Tracy Morgan is a sad comparis...      0   \n",
       "34    RT @vexedmentals: draya really out catching a ...      0   \n",
       "82    Would you rather be a monkey or a gorilla? &#8...      0   \n",
       "87        @SugarShai2 youtube bear vs monkey bike race!      0   \n",
       "...                                                 ...    ...   \n",
       "3761  1-100000 You are a semi-evolved monkey that is...      0   \n",
       "3779  I love floating monkey heads as much as the ne...      0   \n",
       "3805         @iStricer You are hairy like a monkey. : P      0   \n",
       "3893  RT @cpabry: Curious George, the curious little...      0   \n",
       "3894  My baby boy asleep with my monkey that I had s...      0   \n",
       "\n",
       "                                             text_clean  word_count  \n",
       "18    northkorea called barack monkey lol rt shoe fi...          21  \n",
       "24    lakers4life24 tracy morgan sad comparison come...          19  \n",
       "34    rt vexedmentals draya really catching tan son ...          24  \n",
       "82    would rather monkey gorilla 8212 neither theyr...          24  \n",
       "87          sugarshai2 youtube bear vs monkey bike race           7  \n",
       "...                                                 ...         ...  \n",
       "3761  1-100000 semi-evolved monkey desperately searc...          23  \n",
       "3779  love floating monkey heads much next person ac...          19  \n",
       "3805                       istricer hairy like monkey p           9  \n",
       "3893  rt cpabry curious george curious little monkey...          24  \n",
       "3894  baby boy asleep monkey since little love son m...          21  \n",
       "\n",
       "[72 rows x 4 columns]"
      ]
     },
     "execution_count": 138,
     "metadata": {},
     "output_type": "execute_result"
    }
   ],
   "source": [
    "E2a_t[(E2a_t['label']==0) & (E2a_t['text'].str.contains('monkey'))]"
   ]
  },
  {
   "cell_type": "code",
   "execution_count": null,
   "id": "c84e05eb",
   "metadata": {},
   "outputs": [],
   "source": []
  }
 ],
 "metadata": {
  "kernelspec": {
   "display_name": "Python 3 (ipykernel)",
   "language": "python",
   "name": "python3"
  },
  "language_info": {
   "codemirror_mode": {
    "name": "ipython",
    "version": 3
   },
   "file_extension": ".py",
   "mimetype": "text/x-python",
   "name": "python",
   "nbconvert_exporter": "python",
   "pygments_lexer": "ipython3",
   "version": "3.8.13"
  }
 },
 "nbformat": 4,
 "nbformat_minor": 5
}
